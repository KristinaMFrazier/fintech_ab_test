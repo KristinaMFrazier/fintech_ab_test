{
 "cells": [
  {
   "cell_type": "markdown",
   "metadata": {},
   "source": [
    "# Bread Hypothetical A/B Test Analysis\n",
    "\n",
    "### Table of Contents\n",
    "1. Import and explore data\n",
    "2. Data cleaning and feature engineering\n",
    "3. What was the impact from implementing Intellicron?\n",
    "4. Perform a hypothesis test to measure the A/B test results. What was the result of the hypothesis test? What is your confidence interval?\n",
    "5. Was test and control group assignment done correctly? How can you tell? Is there anything you would do differently next time?\n",
    "6. Should we implement Intellicron? What other data, if any, would you need to make this determination?\n",
    "\n",
    "## 1. Import and explore data"
   ]
  },
  {
   "cell_type": "code",
   "execution_count": 1,
   "metadata": {},
   "outputs": [
    {
     "name": "stdout",
     "output_type": "stream",
     "text": [
      "There are 190976 records in prequals\n",
      "There are 8609 records in intellicron_prequals\n"
     ]
    }
   ],
   "source": [
    "import numpy as np\n",
    "import pandas as pd\n",
    "import matplotlib.pyplot as plt\n",
    "%matplotlib inline\n",
    "np.random.seed(42)\n",
    "\n",
    "prequals = pd.read_csv('prequals.csv')\n",
    "intellicron_prequals = pd.read_csv('intellicron_prequals.csv')\n",
    "\n",
    "print(f\"There are {len(prequals)} records in prequals\")\n",
    "print(f\"There are {len(intellicron_prequals)} records in intellicron_prequals\")"
   ]
  },
  {
   "cell_type": "markdown",
   "metadata": {},
   "source": [
    "### Preview table data"
   ]
  },
  {
   "cell_type": "code",
   "execution_count": 2,
   "metadata": {},
   "outputs": [
    {
     "data": {
      "text/html": [
       "<div>\n",
       "<style scoped>\n",
       "    .dataframe tbody tr th:only-of-type {\n",
       "        vertical-align: middle;\n",
       "    }\n",
       "\n",
       "    .dataframe tbody tr th {\n",
       "        vertical-align: top;\n",
       "    }\n",
       "\n",
       "    .dataframe thead th {\n",
       "        text-align: right;\n",
       "    }\n",
       "</style>\n",
       "<table border=\"1\" class=\"dataframe\">\n",
       "  <thead>\n",
       "    <tr style=\"text-align: right;\">\n",
       "      <th></th>\n",
       "      <th>Unnamed: 0</th>\n",
       "      <th>prequal_id</th>\n",
       "      <th>checkout_id</th>\n",
       "      <th>prequal_date</th>\n",
       "      <th>completed_prequal</th>\n",
       "      <th>approved</th>\n",
       "    </tr>\n",
       "  </thead>\n",
       "  <tbody>\n",
       "    <tr>\n",
       "      <th>0</th>\n",
       "      <td>1</td>\n",
       "      <td>00081cb5-27bb-428a-bc53-076bacc7ad02</td>\n",
       "      <td>NaN</td>\n",
       "      <td>2019-06-22</td>\n",
       "      <td>1</td>\n",
       "      <td>0</td>\n",
       "    </tr>\n",
       "    <tr>\n",
       "      <th>1</th>\n",
       "      <td>2</td>\n",
       "      <td>00120f05-bf9d-40db-99d1-05a8cbd8aa0e</td>\n",
       "      <td>NaN</td>\n",
       "      <td>2019-04-16</td>\n",
       "      <td>0</td>\n",
       "      <td>0</td>\n",
       "    </tr>\n",
       "    <tr>\n",
       "      <th>2</th>\n",
       "      <td>3</td>\n",
       "      <td>00139f6d-0af4-49c5-b26f-f9c999a06bcb</td>\n",
       "      <td>6e01514b-6b6b-4510-8f6c-d994b871273c</td>\n",
       "      <td>2019-05-09</td>\n",
       "      <td>1</td>\n",
       "      <td>1</td>\n",
       "    </tr>\n",
       "    <tr>\n",
       "      <th>3</th>\n",
       "      <td>4</td>\n",
       "      <td>0019854e-e4c2-42df-be79-59cf1a13ac89</td>\n",
       "      <td>NaN</td>\n",
       "      <td>2019-01-17</td>\n",
       "      <td>0</td>\n",
       "      <td>0</td>\n",
       "    </tr>\n",
       "    <tr>\n",
       "      <th>4</th>\n",
       "      <td>5</td>\n",
       "      <td>0019cb64-a44c-4320-b149-9c0167c714e9</td>\n",
       "      <td>NaN</td>\n",
       "      <td>2019-04-16</td>\n",
       "      <td>1</td>\n",
       "      <td>1</td>\n",
       "    </tr>\n",
       "  </tbody>\n",
       "</table>\n",
       "</div>"
      ],
      "text/plain": [
       "   Unnamed: 0                            prequal_id  \\\n",
       "0           1  00081cb5-27bb-428a-bc53-076bacc7ad02   \n",
       "1           2  00120f05-bf9d-40db-99d1-05a8cbd8aa0e   \n",
       "2           3  00139f6d-0af4-49c5-b26f-f9c999a06bcb   \n",
       "3           4  0019854e-e4c2-42df-be79-59cf1a13ac89   \n",
       "4           5  0019cb64-a44c-4320-b149-9c0167c714e9   \n",
       "\n",
       "                            checkout_id prequal_date  completed_prequal  \\\n",
       "0                                   NaN   2019-06-22                  1   \n",
       "1                                   NaN   2019-04-16                  0   \n",
       "2  6e01514b-6b6b-4510-8f6c-d994b871273c   2019-05-09                  1   \n",
       "3                                   NaN   2019-01-17                  0   \n",
       "4                                   NaN   2019-04-16                  1   \n",
       "\n",
       "   approved  \n",
       "0         0  \n",
       "1         0  \n",
       "2         1  \n",
       "3         0  \n",
       "4         1  "
      ]
     },
     "execution_count": 2,
     "metadata": {},
     "output_type": "execute_result"
    }
   ],
   "source": [
    "prequals.head()"
   ]
  },
  {
   "cell_type": "code",
   "execution_count": 3,
   "metadata": {
    "scrolled": true
   },
   "outputs": [
    {
     "data": {
      "text/html": [
       "<div>\n",
       "<style scoped>\n",
       "    .dataframe tbody tr th:only-of-type {\n",
       "        vertical-align: middle;\n",
       "    }\n",
       "\n",
       "    .dataframe tbody tr th {\n",
       "        vertical-align: top;\n",
       "    }\n",
       "\n",
       "    .dataframe thead th {\n",
       "        text-align: right;\n",
       "    }\n",
       "</style>\n",
       "<table border=\"1\" class=\"dataframe\">\n",
       "  <thead>\n",
       "    <tr style=\"text-align: right;\">\n",
       "      <th></th>\n",
       "      <th>Unnamed: 0</th>\n",
       "      <th>prequal_id</th>\n",
       "      <th>assignment_date</th>\n",
       "    </tr>\n",
       "  </thead>\n",
       "  <tbody>\n",
       "    <tr>\n",
       "      <th>0</th>\n",
       "      <td>1</td>\n",
       "      <td>00081cb5-27bb-428a-bc53-076bacc7ad02</td>\n",
       "      <td>2019-06-22</td>\n",
       "    </tr>\n",
       "    <tr>\n",
       "      <th>1</th>\n",
       "      <td>2</td>\n",
       "      <td>0136e545-347d-4a3b-b964-0a4561d32567</td>\n",
       "      <td>2019-06-22</td>\n",
       "    </tr>\n",
       "    <tr>\n",
       "      <th>2</th>\n",
       "      <td>3</td>\n",
       "      <td>0144b69a-f364-4746-8600-f6d7334d8f3f</td>\n",
       "      <td>2019-06-27</td>\n",
       "    </tr>\n",
       "    <tr>\n",
       "      <th>3</th>\n",
       "      <td>4</td>\n",
       "      <td>020412e9-c946-4252-94cf-85a4aaa75e2e</td>\n",
       "      <td>2019-06-29</td>\n",
       "    </tr>\n",
       "    <tr>\n",
       "      <th>4</th>\n",
       "      <td>5</td>\n",
       "      <td>02f54404-995d-4eb0-b91b-40f40f68f506</td>\n",
       "      <td>2019-06-19</td>\n",
       "    </tr>\n",
       "  </tbody>\n",
       "</table>\n",
       "</div>"
      ],
      "text/plain": [
       "   Unnamed: 0                            prequal_id assignment_date\n",
       "0           1  00081cb5-27bb-428a-bc53-076bacc7ad02      2019-06-22\n",
       "1           2  0136e545-347d-4a3b-b964-0a4561d32567      2019-06-22\n",
       "2           3  0144b69a-f364-4746-8600-f6d7334d8f3f      2019-06-27\n",
       "3           4  020412e9-c946-4252-94cf-85a4aaa75e2e      2019-06-29\n",
       "4           5  02f54404-995d-4eb0-b91b-40f40f68f506      2019-06-19"
      ]
     },
     "execution_count": 3,
     "metadata": {},
     "output_type": "execute_result"
    }
   ],
   "source": [
    "intellicron_prequals.head()"
   ]
  },
  {
   "cell_type": "markdown",
   "metadata": {},
   "source": [
    "### Date range"
   ]
  },
  {
   "cell_type": "code",
   "execution_count": 4,
   "metadata": {},
   "outputs": [
    {
     "data": {
      "text/plain": [
       "('2019-06-16', '2019-06-30')"
      ]
     },
     "execution_count": 4,
     "metadata": {},
     "output_type": "execute_result"
    }
   ],
   "source": [
    "# Date range for intellicron dataset\n",
    "min(intellicron_prequals.assignment_date), max(intellicron_prequals.assignment_date)"
   ]
  },
  {
   "cell_type": "code",
   "execution_count": 5,
   "metadata": {},
   "outputs": [
    {
     "data": {
      "text/plain": [
       "('2019-01-01', '2019-06-30')"
      ]
     },
     "execution_count": 5,
     "metadata": {},
     "output_type": "execute_result"
    }
   ],
   "source": [
    "# Date range for prequals dataset\n",
    "min(prequals.prequal_date), max(prequals.prequal_date)"
   ]
  },
  {
   "cell_type": "markdown",
   "metadata": {},
   "source": [
    "### Data types"
   ]
  },
  {
   "cell_type": "code",
   "execution_count": 6,
   "metadata": {},
   "outputs": [
    {
     "name": "stdout",
     "output_type": "stream",
     "text": [
      "<class 'pandas.core.frame.DataFrame'>\n",
      "RangeIndex: 8609 entries, 0 to 8608\n",
      "Data columns (total 3 columns):\n",
      " #   Column           Non-Null Count  Dtype \n",
      "---  ------           --------------  ----- \n",
      " 0   Unnamed: 0       8609 non-null   int64 \n",
      " 1   prequal_id       8609 non-null   object\n",
      " 2   assignment_date  8609 non-null   object\n",
      "dtypes: int64(1), object(2)\n",
      "memory usage: 201.9+ KB\n",
      "None\n",
      "\n",
      "\n",
      "<class 'pandas.core.frame.DataFrame'>\n",
      "RangeIndex: 190976 entries, 0 to 190975\n",
      "Data columns (total 6 columns):\n",
      " #   Column             Non-Null Count   Dtype \n",
      "---  ------             --------------   ----- \n",
      " 0   Unnamed: 0         190976 non-null  int64 \n",
      " 1   prequal_id         190976 non-null  object\n",
      " 2   checkout_id        49323 non-null   object\n",
      " 3   prequal_date       190976 non-null  object\n",
      " 4   completed_prequal  190976 non-null  int64 \n",
      " 5   approved           190976 non-null  int64 \n",
      "dtypes: int64(3), object(3)\n",
      "memory usage: 8.7+ MB\n",
      "None\n"
     ]
    }
   ],
   "source": [
    "print(intellicron_prequals.info())\n",
    "print('\\n')\n",
    "print(prequals.info())"
   ]
  },
  {
   "cell_type": "markdown",
   "metadata": {},
   "source": [
    "### Null data"
   ]
  },
  {
   "cell_type": "code",
   "execution_count": 7,
   "metadata": {},
   "outputs": [
    {
     "data": {
      "text/plain": [
       "Unnamed: 0                0\n",
       "prequal_id                0\n",
       "checkout_id          141653\n",
       "prequal_date              0\n",
       "completed_prequal         0\n",
       "approved                  0\n",
       "dtype: int64"
      ]
     },
     "execution_count": 7,
     "metadata": {},
     "output_type": "execute_result"
    }
   ],
   "source": [
    "np.sum(prequals.isnull())"
   ]
  },
  {
   "cell_type": "code",
   "execution_count": 8,
   "metadata": {},
   "outputs": [
    {
     "data": {
      "text/plain": [
       "Unnamed: 0         0\n",
       "prequal_id         0\n",
       "assignment_date    0\n",
       "dtype: int64"
      ]
     },
     "execution_count": 8,
     "metadata": {},
     "output_type": "execute_result"
    }
   ],
   "source": [
    "np.sum(intellicron_prequals.isnull())"
   ]
  },
  {
   "cell_type": "markdown",
   "metadata": {},
   "source": [
    "## 2. Data cleaning and feature engineering"
   ]
  },
  {
   "cell_type": "code",
   "execution_count": 9,
   "metadata": {},
   "outputs": [
    {
     "name": "stdout",
     "output_type": "stream",
     "text": [
      "<class 'pandas.core.frame.DataFrame'>\n",
      "RangeIndex: 8609 entries, 0 to 8608\n",
      "Data columns (total 3 columns):\n",
      " #   Column           Non-Null Count  Dtype         \n",
      "---  ------           --------------  -----         \n",
      " 0   Unnamed: 0       8609 non-null   int64         \n",
      " 1   prequal_id       8609 non-null   object        \n",
      " 2   assignment_date  8609 non-null   datetime64[ns]\n",
      "dtypes: datetime64[ns](1), int64(1), object(1)\n",
      "memory usage: 201.9+ KB\n",
      "None\n",
      "\n",
      "\n",
      "<class 'pandas.core.frame.DataFrame'>\n",
      "RangeIndex: 190976 entries, 0 to 190975\n",
      "Data columns (total 6 columns):\n",
      " #   Column             Non-Null Count   Dtype         \n",
      "---  ------             --------------   -----         \n",
      " 0   Unnamed: 0         190976 non-null  int64         \n",
      " 1   prequal_id         190976 non-null  object        \n",
      " 2   checkout_id        49323 non-null   object        \n",
      " 3   prequal_date       190976 non-null  datetime64[ns]\n",
      " 4   completed_prequal  190976 non-null  int64         \n",
      " 5   approved           190976 non-null  int64         \n",
      "dtypes: datetime64[ns](1), int64(3), object(2)\n",
      "memory usage: 8.7+ MB\n",
      "None\n"
     ]
    }
   ],
   "source": [
    "# Convert date columns to date time\n",
    "prequals['prequal_date'] = pd.to_datetime(prequals['prequal_date'])\n",
    "intellicron_prequals['assignment_date'] = pd.to_datetime(intellicron_prequals['assignment_date'])\n",
    "\n",
    "# Check\n",
    "print(intellicron_prequals.info())\n",
    "print('\\n')\n",
    "print(prequals.info())"
   ]
  },
  {
   "cell_type": "code",
   "execution_count": 10,
   "metadata": {},
   "outputs": [
    {
     "data": {
      "text/plain": [
       "True"
      ]
     },
     "execution_count": 10,
     "metadata": {},
     "output_type": "execute_result"
    }
   ],
   "source": [
    "# Assign a new column to identify intellicron prequals\n",
    "intellicron_prequals['group'] = 'experiment'\n",
    "\n",
    "# Add intellicron identifier to prequals\n",
    "prequals_new = prequals.merge(intellicron_prequals, how='left', left_on='prequal_id', right_on='prequal_id',suffixes=('_left', '_right'))\n",
    "\n",
    "# Drop extra id columns\n",
    "prequals_new = prequals_new.drop(columns = ['Unnamed: 0_left','Unnamed: 0_right'])\n",
    "\n",
    "# Assign control label to non-intellicron records\n",
    "prequals_new.group.replace(to_replace = {np.NaN:'control'}, inplace = True)\n",
    "\n",
    "# Check\n",
    "len(prequals_new) == len(prequals)"
   ]
  },
  {
   "cell_type": "code",
   "execution_count": 11,
   "metadata": {},
   "outputs": [
    {
     "data": {
      "text/html": [
       "<div>\n",
       "<style scoped>\n",
       "    .dataframe tbody tr th:only-of-type {\n",
       "        vertical-align: middle;\n",
       "    }\n",
       "\n",
       "    .dataframe tbody tr th {\n",
       "        vertical-align: top;\n",
       "    }\n",
       "\n",
       "    .dataframe thead th {\n",
       "        text-align: right;\n",
       "    }\n",
       "</style>\n",
       "<table border=\"1\" class=\"dataframe\">\n",
       "  <thead>\n",
       "    <tr style=\"text-align: right;\">\n",
       "      <th></th>\n",
       "      <th>prequal_id</th>\n",
       "      <th>checkout_id</th>\n",
       "      <th>prequal_date</th>\n",
       "      <th>completed_prequal</th>\n",
       "      <th>approved</th>\n",
       "      <th>assignment_date</th>\n",
       "      <th>group</th>\n",
       "    </tr>\n",
       "  </thead>\n",
       "  <tbody>\n",
       "    <tr>\n",
       "      <th>63578</th>\n",
       "      <td>6fc353a8-a0a7-4917-9415-88f00fb54234</td>\n",
       "      <td>09eb7d4d-f03f-460b-8f01-6adef76defea</td>\n",
       "      <td>2019-03-18</td>\n",
       "      <td>1</td>\n",
       "      <td>1</td>\n",
       "      <td>NaT</td>\n",
       "      <td>control</td>\n",
       "    </tr>\n",
       "    <tr>\n",
       "      <th>107446</th>\n",
       "      <td>a276558a-a890-4466-a749-a51cf973b96c</td>\n",
       "      <td>NaN</td>\n",
       "      <td>2019-06-01</td>\n",
       "      <td>0</td>\n",
       "      <td>0</td>\n",
       "      <td>NaT</td>\n",
       "      <td>control</td>\n",
       "    </tr>\n",
       "    <tr>\n",
       "      <th>9339</th>\n",
       "      <td>0d60371c-94eb-46de-a215-e6da2a5c41da</td>\n",
       "      <td>8af59a7e-4ddc-4728-ba53-0ebc87df8c52</td>\n",
       "      <td>2019-05-07</td>\n",
       "      <td>1</td>\n",
       "      <td>1</td>\n",
       "      <td>NaT</td>\n",
       "      <td>control</td>\n",
       "    </tr>\n",
       "    <tr>\n",
       "      <th>59599</th>\n",
       "      <td>4310bbc3-cfdd-4d46-8b52-1a00d42cc6a5</td>\n",
       "      <td>NaN</td>\n",
       "      <td>2019-01-18</td>\n",
       "      <td>0</td>\n",
       "      <td>0</td>\n",
       "      <td>NaT</td>\n",
       "      <td>control</td>\n",
       "    </tr>\n",
       "    <tr>\n",
       "      <th>39855</th>\n",
       "      <td>271e8cfe-7899-4265-b193-b4ede086e740</td>\n",
       "      <td>NaN</td>\n",
       "      <td>2019-02-11</td>\n",
       "      <td>0</td>\n",
       "      <td>0</td>\n",
       "      <td>NaT</td>\n",
       "      <td>control</td>\n",
       "    </tr>\n",
       "  </tbody>\n",
       "</table>\n",
       "</div>"
      ],
      "text/plain": [
       "                                  prequal_id  \\\n",
       "63578   6fc353a8-a0a7-4917-9415-88f00fb54234   \n",
       "107446  a276558a-a890-4466-a749-a51cf973b96c   \n",
       "9339    0d60371c-94eb-46de-a215-e6da2a5c41da   \n",
       "59599   4310bbc3-cfdd-4d46-8b52-1a00d42cc6a5   \n",
       "39855   271e8cfe-7899-4265-b193-b4ede086e740   \n",
       "\n",
       "                                 checkout_id prequal_date  completed_prequal  \\\n",
       "63578   09eb7d4d-f03f-460b-8f01-6adef76defea   2019-03-18                  1   \n",
       "107446                                   NaN   2019-06-01                  0   \n",
       "9339    8af59a7e-4ddc-4728-ba53-0ebc87df8c52   2019-05-07                  1   \n",
       "59599                                    NaN   2019-01-18                  0   \n",
       "39855                                    NaN   2019-02-11                  0   \n",
       "\n",
       "        approved assignment_date    group  \n",
       "63578          1             NaT  control  \n",
       "107446         0             NaT  control  \n",
       "9339           1             NaT  control  \n",
       "59599          0             NaT  control  \n",
       "39855          0             NaT  control  "
      ]
     },
     "execution_count": 11,
     "metadata": {},
     "output_type": "execute_result"
    }
   ],
   "source": [
    "# Preview\n",
    "prequals_new.sample(5)"
   ]
  },
  {
   "cell_type": "code",
   "execution_count": 12,
   "metadata": {
    "scrolled": false
   },
   "outputs": [
    {
     "data": {
      "text/plain": [
       "True"
      ]
     },
     "execution_count": 12,
     "metadata": {},
     "output_type": "execute_result"
    }
   ],
   "source": [
    "# Check\n",
    "prequals_new.group.value_counts().sum() == len(prequals)"
   ]
  },
  {
   "cell_type": "code",
   "execution_count": 13,
   "metadata": {},
   "outputs": [
    {
     "data": {
      "text/html": [
       "<div>\n",
       "<style scoped>\n",
       "    .dataframe tbody tr th:only-of-type {\n",
       "        vertical-align: middle;\n",
       "    }\n",
       "\n",
       "    .dataframe tbody tr th {\n",
       "        vertical-align: top;\n",
       "    }\n",
       "\n",
       "    .dataframe thead th {\n",
       "        text-align: right;\n",
       "    }\n",
       "</style>\n",
       "<table border=\"1\" class=\"dataframe\">\n",
       "  <thead>\n",
       "    <tr style=\"text-align: right;\">\n",
       "      <th></th>\n",
       "      <th>index</th>\n",
       "      <th>prequal_id</th>\n",
       "      <th>checkout_id</th>\n",
       "      <th>prequal_date</th>\n",
       "      <th>completed_prequal</th>\n",
       "      <th>approved</th>\n",
       "      <th>assignment_date</th>\n",
       "      <th>group</th>\n",
       "      <th>checkout</th>\n",
       "    </tr>\n",
       "  </thead>\n",
       "  <tbody>\n",
       "    <tr>\n",
       "      <th>0</th>\n",
       "      <td>0</td>\n",
       "      <td>00081cb5-27bb-428a-bc53-076bacc7ad02</td>\n",
       "      <td>NaN</td>\n",
       "      <td>2019-06-22</td>\n",
       "      <td>1</td>\n",
       "      <td>0</td>\n",
       "      <td>2019-06-22</td>\n",
       "      <td>experiment</td>\n",
       "      <td>0</td>\n",
       "    </tr>\n",
       "    <tr>\n",
       "      <th>1</th>\n",
       "      <td>1</td>\n",
       "      <td>00120f05-bf9d-40db-99d1-05a8cbd8aa0e</td>\n",
       "      <td>NaN</td>\n",
       "      <td>2019-04-16</td>\n",
       "      <td>0</td>\n",
       "      <td>0</td>\n",
       "      <td>NaT</td>\n",
       "      <td>control</td>\n",
       "      <td>0</td>\n",
       "    </tr>\n",
       "    <tr>\n",
       "      <th>2</th>\n",
       "      <td>2</td>\n",
       "      <td>00139f6d-0af4-49c5-b26f-f9c999a06bcb</td>\n",
       "      <td>6e01514b-6b6b-4510-8f6c-d994b871273c</td>\n",
       "      <td>2019-05-09</td>\n",
       "      <td>1</td>\n",
       "      <td>1</td>\n",
       "      <td>NaT</td>\n",
       "      <td>control</td>\n",
       "      <td>1</td>\n",
       "    </tr>\n",
       "    <tr>\n",
       "      <th>3</th>\n",
       "      <td>3</td>\n",
       "      <td>0019854e-e4c2-42df-be79-59cf1a13ac89</td>\n",
       "      <td>NaN</td>\n",
       "      <td>2019-01-17</td>\n",
       "      <td>0</td>\n",
       "      <td>0</td>\n",
       "      <td>NaT</td>\n",
       "      <td>control</td>\n",
       "      <td>0</td>\n",
       "    </tr>\n",
       "    <tr>\n",
       "      <th>4</th>\n",
       "      <td>4</td>\n",
       "      <td>0019cb64-a44c-4320-b149-9c0167c714e9</td>\n",
       "      <td>NaN</td>\n",
       "      <td>2019-04-16</td>\n",
       "      <td>1</td>\n",
       "      <td>1</td>\n",
       "      <td>NaT</td>\n",
       "      <td>control</td>\n",
       "      <td>0</td>\n",
       "    </tr>\n",
       "  </tbody>\n",
       "</table>\n",
       "</div>"
      ],
      "text/plain": [
       "   index                            prequal_id  \\\n",
       "0      0  00081cb5-27bb-428a-bc53-076bacc7ad02   \n",
       "1      1  00120f05-bf9d-40db-99d1-05a8cbd8aa0e   \n",
       "2      2  00139f6d-0af4-49c5-b26f-f9c999a06bcb   \n",
       "3      3  0019854e-e4c2-42df-be79-59cf1a13ac89   \n",
       "4      4  0019cb64-a44c-4320-b149-9c0167c714e9   \n",
       "\n",
       "                            checkout_id prequal_date  completed_prequal  \\\n",
       "0                                   NaN   2019-06-22                  1   \n",
       "1                                   NaN   2019-04-16                  0   \n",
       "2  6e01514b-6b6b-4510-8f6c-d994b871273c   2019-05-09                  1   \n",
       "3                                   NaN   2019-01-17                  0   \n",
       "4                                   NaN   2019-04-16                  1   \n",
       "\n",
       "   approved assignment_date       group  checkout  \n",
       "0         0      2019-06-22  experiment         0  \n",
       "1         0             NaT     control         0  \n",
       "2         1             NaT     control         1  \n",
       "3         0             NaT     control         0  \n",
       "4         1             NaT     control         0  "
      ]
     },
     "execution_count": 13,
     "metadata": {},
     "output_type": "execute_result"
    }
   ],
   "source": [
    "# Create checkout code\n",
    "prequals_new.reset_index(inplace = True)\n",
    "prequals_new['checkout'] = [0 if prequals_new.checkout_id[i] is np.NaN else 1 for i in range(len(prequals_new))]\n",
    "prequals_new.head()"
   ]
  },
  {
   "cell_type": "markdown",
   "metadata": {},
   "source": [
    "## 3. What was the impact from implementing Intellicron?"
   ]
  },
  {
   "cell_type": "code",
   "execution_count": 14,
   "metadata": {},
   "outputs": [
    {
     "name": "stdout",
     "output_type": "stream",
     "text": [
      "Date range of prequals_new_before is (Timestamp('2019-01-01 00:00:00'), Timestamp('2019-06-15 00:00:00')).\n",
      "Date range of prequals_new_after is (Timestamp('2019-06-16 00:00:00'), Timestamp('2019-06-30 00:00:00')).\n"
     ]
    }
   ],
   "source": [
    "# Split data before and after intellicron ('2019-06-16')\n",
    "prequals_new_before = prequals_new[prequals_new.prequal_date < '2019-06-16']\n",
    "prequals_new_after = prequals_new[prequals_new.prequal_date >= '2019-06-16']\n",
    "\n",
    "# Check\n",
    "print(f\"Date range of prequals_new_before is {min(prequals_new_before.prequal_date),max(prequals_new_before.prequal_date)}.\")\n",
    "print(f\"Date range of prequals_new_after is {min(prequals_new_after.prequal_date),max(prequals_new_after.prequal_date)}.\")"
   ]
  },
  {
   "cell_type": "code",
   "execution_count": 15,
   "metadata": {},
   "outputs": [
    {
     "data": {
      "text/plain": [
       "control    172603\n",
       "Name: group, dtype: int64"
      ]
     },
     "execution_count": 15,
     "metadata": {},
     "output_type": "execute_result"
    }
   ],
   "source": [
    "# How was intellicron implemented?\n",
    "prequals_new_before.group.value_counts()"
   ]
  },
  {
   "cell_type": "code",
   "execution_count": 16,
   "metadata": {},
   "outputs": [
    {
     "data": {
      "text/plain": [
       "control       9764\n",
       "experiment    8609\n",
       "Name: group, dtype: int64"
      ]
     },
     "execution_count": 16,
     "metadata": {},
     "output_type": "execute_result"
    }
   ],
   "source": [
    "prequals_new_after.group.value_counts()"
   ]
  },
  {
   "cell_type": "markdown",
   "metadata": {},
   "source": [
    "### Funnel Rates: Total Rates Before and After Intellicron"
   ]
  },
  {
   "cell_type": "code",
   "execution_count": 17,
   "metadata": {},
   "outputs": [
    {
     "name": "stdout",
     "output_type": "stream",
     "text": [
      "Before Intellicron, the application completion rate was 0.5257556357653111.\n",
      "After Intellicron, the application completion rate was 0.5303434387416317.\n"
     ]
    }
   ],
   "source": [
    "# Calculate completed_prequal rate\n",
    "print(f\"Before Intellicron, the application completion rate was {np.mean(prequals_new_before.completed_prequal)}.\")\n",
    "print(f\"After Intellicron, the application completion rate was {np.mean(prequals_new_after.completed_prequal)}.\")"
   ]
  },
  {
   "cell_type": "code",
   "execution_count": 18,
   "metadata": {},
   "outputs": [
    {
     "name": "stdout",
     "output_type": "stream",
     "text": [
      "Before Intellicron, the approval rate was 0.6496192711604791.\n",
      "After Intellicron, the approval rate was 0.652196223316913.\n"
     ]
    }
   ],
   "source": [
    "# Calculate approved rate\n",
    "print(f\"Before Intellicron, the approval rate was {sum(prequals_new_before.approved)/sum(prequals_new_before.completed_prequal)}.\")\n",
    "print(f\"After Intellicron, the approval rate was {sum(prequals_new_after.approved)/sum(prequals_new_after.completed_prequal)}.\")"
   ]
  },
  {
   "cell_type": "code",
   "execution_count": 19,
   "metadata": {},
   "outputs": [
    {
     "name": "stdout",
     "output_type": "stream",
     "text": [
      "Before Intellicron, the checkout rate was 0.7544062017607844.\n",
      "After Intellicron, the checkout rate was 0.7631785995279308.\n"
     ]
    }
   ],
   "source": [
    "# Calculate checkout rate (I don't think this is relevant to the question)\n",
    "print(f\"Before Intellicron, the checkout rate was {sum(prequals_new_before.checkout)/sum(prequals_new_before.approved)}.\")\n",
    "print(f\"After Intellicron, the checkout rate was {sum(prequals_new_after.checkout)/sum(prequals_new_after.approved)}.\")"
   ]
  },
  {
   "cell_type": "markdown",
   "metadata": {},
   "source": [
    "### Funnel Rates: A/B Test Period"
   ]
  },
  {
   "cell_type": "code",
   "execution_count": 20,
   "metadata": {},
   "outputs": [],
   "source": [
    "# Split Data\n",
    "prequals_new_after_control = prequals_new_after[prequals_new_after.group == 'control']\n",
    "prequals_new_after_experiment = prequals_new_after[prequals_new_after.group == 'experiment']"
   ]
  },
  {
   "cell_type": "code",
   "execution_count": 21,
   "metadata": {},
   "outputs": [
    {
     "name": "stdout",
     "output_type": "stream",
     "text": [
      "Without Intellicron, the application completion rate was 0.5170012290045064.\n",
      "With Intellicron, the application completion rate was 0.5454756650017424.\n"
     ]
    }
   ],
   "source": [
    "# Calculate completed_prequal rate\n",
    "print(f\"Without Intellicron, the application completion rate was {np.mean(prequals_new_after_control.completed_prequal)}.\")\n",
    "print(f\"With Intellicron, the application completion rate was {np.mean(prequals_new_after_experiment.completed_prequal)}.\")"
   ]
  },
  {
   "cell_type": "code",
   "execution_count": 22,
   "metadata": {},
   "outputs": [
    {
     "name": "stdout",
     "output_type": "stream",
     "text": [
      "Without Intellicron, the approval rate was 0.6584786053882726.\n",
      "With Intellicron, the approval rate was 0.645442930153322.\n"
     ]
    }
   ],
   "source": [
    "# Calculate approved rate\n",
    "print(f\"Without Intellicron, the approval rate was {sum(prequals_new_after_control.approved)/sum(prequals_new_after_control.completed_prequal)}.\")\n",
    "print(f\"With Intellicron, the approval rate was {sum(prequals_new_after_experiment.approved)/sum(prequals_new_after_experiment.completed_prequal)}.\")\n"
   ]
  },
  {
   "cell_type": "markdown",
   "metadata": {},
   "source": [
    "## 4. Perform a hypothesis test to measure the A/B test results. What was the result of the hypothesis test? What is your confidence interval?\n",
    "\n",
    "Null Hypothesis: The conversion rate for the application step is the same or worse with Intellicron as it is when applicants enter their SSN manually.\n",
    "\n",
    "Alternative Hypothesis: The conversation rate for Intellicron applicants is greater than manual SSN entry.\n",
    "\n",
    "\n",
    "### Summary of A/B Test Analysis\n",
    "\n",
    "1. Compute the observed difference between the application conversion rates of the control and experimental group.\n",
    "\n",
    "2. Simulate the sampling distribution for the difference in means (or conversion rates).\n",
    "\n",
    "3. Use this sampling distribution to simulate the distribution under the null hypothesis by creating a random normal distribution centered at 0 with the same spread and size.\n",
    "\n",
    "4. Compute the p-value by finding the proportion of values in the null distribution greater than our observed difference.\n",
    "\n",
    "5. Use this p-value to determine the statistical significance of our observed difference."
   ]
  },
  {
   "cell_type": "markdown",
   "metadata": {},
   "source": [
    "#### 1. Compute the observed difference between the application conversion rates of the control and experimental group."
   ]
  },
  {
   "cell_type": "code",
   "execution_count": 23,
   "metadata": {},
   "outputs": [
    {
     "data": {
      "text/plain": [
       "0.02847443599723598"
      ]
     },
     "execution_count": 23,
     "metadata": {},
     "output_type": "execute_result"
    }
   ],
   "source": [
    "#Simplify variable names\n",
    "control = prequals_new_after_control\n",
    "experiment = prequals_new_after_experiment\n",
    "\n",
    "# Compute completion rate\n",
    "control_cr = control['completed_prequal'].mean()\n",
    "experiment_cr = experiment['completed_prequal'].mean()\n",
    "\n",
    "# Compute observed difference in completion rates\n",
    "obs_diff = experiment_cr - control_cr\n",
    "\n",
    "# Display observed difference in completion rates\n",
    "obs_diff"
   ]
  },
  {
   "cell_type": "markdown",
   "metadata": {},
   "source": [
    "#### 2. Simulate the sampling distribution for the difference in means (or conversion rates)."
   ]
  },
  {
   "cell_type": "code",
   "execution_count": 24,
   "metadata": {},
   "outputs": [],
   "source": [
    "# Create sampling distribution for difference in completion rates with boostrapping\n",
    "diffs = []\n",
    "size = prequals_new_after.shape[0]\n",
    "for _ in range(1000):\n",
    "    b_samp = prequals_new_after.sample(size, replace=True)\n",
    "    control_df = b_samp.query('group == \"control\"')\n",
    "    experiment_df = b_samp.query('group == \"experiment\"')\n",
    "    control_ctr = control_df['completed_prequal'].mean()\n",
    "    experiment_ctr = experiment_df['completed_prequal'].mean()\n",
    "    diffs.append(experiment_ctr - control_ctr)"
   ]
  },
  {
   "cell_type": "code",
   "execution_count": 25,
   "metadata": {
    "scrolled": true
   },
   "outputs": [
    {
     "data": {
      "image/png": "[encoded data removed]",
      "text/plain": [
       "<Figure size 432x288 with 1 Axes>"
      ]
     },
     "metadata": {
      "needs_background": "light"
     },
     "output_type": "display_data"
    }
   ],
   "source": [
    "# convert to numpy array\n",
    "diffs = np.array(diffs)\n",
    "\n",
    "# plot distribution\n",
    "plt.hist(diffs);"
   ]
  },
  {
   "cell_type": "code",
   "execution_count": 65,
   "metadata": {},
   "outputs": [
    {
     "data": {
      "text/plain": [
       "(0.009258121627164311, 0.047037428536832016)"
      ]
     },
     "execution_count": 65,
     "metadata": {},
     "output_type": "execute_result"
    }
   ],
   "source": [
    "np.percentile(diffs,0.5),np.percentile(diffs,99.5)"
   ]
  },
  {
   "cell_type": "markdown",
   "metadata": {},
   "source": [
    "#### 3. Use this sampling distribution to simulate the distribution under the null hypothesis by creating a random normal distribution centered at 0 with the same spread and size."
   ]
  },
  {
   "cell_type": "code",
   "execution_count": 26,
   "metadata": {},
   "outputs": [],
   "source": [
    "# create distribution under the null hypothesis\n",
    "null_vals = np.random.normal(loc = 0, scale = diffs.std(), size = diffs.size)"
   ]
  },
  {
   "cell_type": "code",
   "execution_count": 27,
   "metadata": {},
   "outputs": [
    {
     "data": {
      "image/png": "[encoded data removed]",
      "text/plain": [
       "<Figure size 432x288 with 1 Axes>"
      ]
     },
     "metadata": {
      "needs_background": "light"
     },
     "output_type": "display_data"
    }
   ],
   "source": [
    "# plot null distribution\n",
    "plt.hist(null_vals);\n",
    "\n",
    "# plot line for observed statistic\n",
    "plt.axvline(obs_diff, color = 'r');"
   ]
  },
  {
   "cell_type": "code",
   "execution_count": 28,
   "metadata": {},
   "outputs": [
    {
     "data": {
      "text/plain": [
       "0.0"
      ]
     },
     "execution_count": 28,
     "metadata": {},
     "output_type": "execute_result"
    }
   ],
   "source": [
    "# compute p value\n",
    "(null_vals > obs_diff).mean()"
   ]
  },
  {
   "cell_type": "markdown",
   "metadata": {},
   "source": [
    "There is evidence, with a type I error rate of 0.05, that Intellicron increases the application completion rate."
   ]
  },
  {
   "cell_type": "markdown",
   "metadata": {},
   "source": [
    "#### Statsmodels Version"
   ]
  },
  {
   "cell_type": "code",
   "execution_count": 29,
   "metadata": {},
   "outputs": [
    {
     "data": {
      "text/html": [
       "<div>\n",
       "<style scoped>\n",
       "    .dataframe tbody tr th:only-of-type {\n",
       "        vertical-align: middle;\n",
       "    }\n",
       "\n",
       "    .dataframe tbody tr th {\n",
       "        vertical-align: top;\n",
       "    }\n",
       "\n",
       "    .dataframe thead th {\n",
       "        text-align: right;\n",
       "    }\n",
       "</style>\n",
       "<table border=\"1\" class=\"dataframe\">\n",
       "  <thead>\n",
       "    <tr style=\"text-align: right;\">\n",
       "      <th></th>\n",
       "      <th>index</th>\n",
       "      <th>prequal_id</th>\n",
       "      <th>checkout_id</th>\n",
       "      <th>prequal_date</th>\n",
       "      <th>completed_prequal</th>\n",
       "      <th>approved</th>\n",
       "      <th>assignment_date</th>\n",
       "      <th>group</th>\n",
       "      <th>checkout</th>\n",
       "    </tr>\n",
       "  </thead>\n",
       "  <tbody>\n",
       "    <tr>\n",
       "      <th>0</th>\n",
       "      <td>0</td>\n",
       "      <td>00081cb5-27bb-428a-bc53-076bacc7ad02</td>\n",
       "      <td>NaN</td>\n",
       "      <td>2019-06-22</td>\n",
       "      <td>1</td>\n",
       "      <td>0</td>\n",
       "      <td>2019-06-22</td>\n",
       "      <td>experiment</td>\n",
       "      <td>0</td>\n",
       "    </tr>\n",
       "    <tr>\n",
       "      <th>25</th>\n",
       "      <td>25</td>\n",
       "      <td>0136e545-347d-4a3b-b964-0a4561d32567</td>\n",
       "      <td>NaN</td>\n",
       "      <td>2019-06-22</td>\n",
       "      <td>0</td>\n",
       "      <td>0</td>\n",
       "      <td>2019-06-22</td>\n",
       "      <td>experiment</td>\n",
       "      <td>0</td>\n",
       "    </tr>\n",
       "    <tr>\n",
       "      <th>27</th>\n",
       "      <td>27</td>\n",
       "      <td>0144b69a-f364-4746-8600-f6d7334d8f3f</td>\n",
       "      <td>NaN</td>\n",
       "      <td>2019-06-27</td>\n",
       "      <td>1</td>\n",
       "      <td>0</td>\n",
       "      <td>2019-06-27</td>\n",
       "      <td>experiment</td>\n",
       "      <td>0</td>\n",
       "    </tr>\n",
       "    <tr>\n",
       "      <th>43</th>\n",
       "      <td>43</td>\n",
       "      <td>01e3886c-6f22-471f-b5e5-aa85d96f048c</td>\n",
       "      <td>3e636653-cf94-40b7-b3c9-7fb118d4d2a2</td>\n",
       "      <td>2019-06-30</td>\n",
       "      <td>1</td>\n",
       "      <td>1</td>\n",
       "      <td>NaT</td>\n",
       "      <td>control</td>\n",
       "      <td>1</td>\n",
       "    </tr>\n",
       "    <tr>\n",
       "      <th>44</th>\n",
       "      <td>44</td>\n",
       "      <td>020412e9-c946-4252-94cf-85a4aaa75e2e</td>\n",
       "      <td>NaN</td>\n",
       "      <td>2019-06-29</td>\n",
       "      <td>0</td>\n",
       "      <td>0</td>\n",
       "      <td>2019-06-29</td>\n",
       "      <td>experiment</td>\n",
       "      <td>0</td>\n",
       "    </tr>\n",
       "  </tbody>\n",
       "</table>\n",
       "</div>"
      ],
      "text/plain": [
       "    index                            prequal_id  \\\n",
       "0       0  00081cb5-27bb-428a-bc53-076bacc7ad02   \n",
       "25     25  0136e545-347d-4a3b-b964-0a4561d32567   \n",
       "27     27  0144b69a-f364-4746-8600-f6d7334d8f3f   \n",
       "43     43  01e3886c-6f22-471f-b5e5-aa85d96f048c   \n",
       "44     44  020412e9-c946-4252-94cf-85a4aaa75e2e   \n",
       "\n",
       "                             checkout_id prequal_date  completed_prequal  \\\n",
       "0                                    NaN   2019-06-22                  1   \n",
       "25                                   NaN   2019-06-22                  0   \n",
       "27                                   NaN   2019-06-27                  1   \n",
       "43  3e636653-cf94-40b7-b3c9-7fb118d4d2a2   2019-06-30                  1   \n",
       "44                                   NaN   2019-06-29                  0   \n",
       "\n",
       "    approved assignment_date       group  checkout  \n",
       "0          0      2019-06-22  experiment         0  \n",
       "25         0      2019-06-22  experiment         0  \n",
       "27         0      2019-06-27  experiment         0  \n",
       "43         1             NaT     control         1  \n",
       "44         0      2019-06-29  experiment         0  "
      ]
     },
     "execution_count": 29,
     "metadata": {},
     "output_type": "execute_result"
    }
   ],
   "source": [
    "prequals_new_after.head()"
   ]
  },
  {
   "cell_type": "code",
   "execution_count": 30,
   "metadata": {},
   "outputs": [],
   "source": [
    "import statsmodels.api as sm\n",
    "\n",
    "control = prequals_new_after.query('(group == \"control\") & (completed_prequal == 1)').shape[0]\n",
    "experiment = prequals_new_after.query('(group == \"experiment\") & (completed_prequal == 1)').shape[0]\n",
    "n_old = prequals_new_after.query('group == \"control\"').shape[0]\n",
    "n_new = prequals_new_after.query('group == \"experiment\"').shape[0]"
   ]
  },
  {
   "cell_type": "code",
   "execution_count": 31,
   "metadata": {},
   "outputs": [
    {
     "data": {
      "text/plain": [
       "(-3.8591044677105613, 5.690164271762356e-05)"
      ]
     },
     "execution_count": 31,
     "metadata": {},
     "output_type": "execute_result"
    }
   ],
   "source": [
    "# Number of trials or observations (represented as an array for the two indepedent samples of old and new pages)\n",
    "nobs = [n_old, n_new]\n",
    "\n",
    "# Number of successes in nobs trials (number of conversions)\n",
    "count = [control, experiment]\n",
    "\n",
    "z_test , p_value = sm.stats.proportions_ztest(count, nobs, alternative ='smaller')\n",
    "# value is not set because in this case, the null hypothesis is 0, so the default of 0 is accepted here\n",
    "\n",
    "# we want a p value for values greater than the null of 0, for this function that means proportion > null/value\n",
    "# the paramater would be alternative set to smaller to represent the alternative hypothesis, where the 1st proportion\n",
    "# is smaller than the second proportion\n",
    "\n",
    "\n",
    "z_test, p_value"
   ]
  },
  {
   "cell_type": "markdown",
   "metadata": {},
   "source": [
    "In this case, z-score and p-value both represent the probability of the proportion sample statistic occuring if it originated from a normal distrubtion of the null hypothesis. A large p-value that is more than the alpha set for the significance level indicates that we cannot reject the hypothesis - or that this statistic has a high probability of being within the sampling variation of the null hypothesis. \n",
    "\n",
    "The z-score describes this same relationship within units of standard deviation. In this case, the sample statistic is -3.9 standard deviations from the null hypothesis of 0. A low value for the z-score also points to failing to reject the null hypothesis.\n",
    "\n",
    "(Adding additional explanation from Udacity review for future reference) The z-score here, calculated through one tail, describes the distance from the mean after standardizing the normal distribution around 0. In addition, with a sampling distribution, a z-score of less than the z-critical value of 1.645 means that we are likely to sample such a sample from the sampling distribution given an alpha of 0.05."
   ]
  },
  {
   "cell_type": "markdown",
   "metadata": {},
   "source": [
    "## 5. Was test and control group assignment done correctly? How can you tell? Is there anything you would do differently next time?"
   ]
  },
  {
   "cell_type": "code",
   "execution_count": 35,
   "metadata": {},
   "outputs": [
    {
     "data": {
      "text/html": [
       "<div>\n",
       "<style scoped>\n",
       "    .dataframe tbody tr th:only-of-type {\n",
       "        vertical-align: middle;\n",
       "    }\n",
       "\n",
       "    .dataframe tbody tr th {\n",
       "        vertical-align: top;\n",
       "    }\n",
       "\n",
       "    .dataframe thead th {\n",
       "        text-align: right;\n",
       "    }\n",
       "</style>\n",
       "<table border=\"1\" class=\"dataframe\">\n",
       "  <thead>\n",
       "    <tr style=\"text-align: right;\">\n",
       "      <th></th>\n",
       "      <th>index</th>\n",
       "      <th>prequal_id</th>\n",
       "      <th>checkout_id</th>\n",
       "      <th>prequal_date</th>\n",
       "      <th>completed_prequal</th>\n",
       "      <th>approved</th>\n",
       "      <th>assignment_date</th>\n",
       "      <th>group</th>\n",
       "      <th>checkout</th>\n",
       "    </tr>\n",
       "  </thead>\n",
       "  <tbody>\n",
       "    <tr>\n",
       "      <th>0</th>\n",
       "      <td>0</td>\n",
       "      <td>00081cb5-27bb-428a-bc53-076bacc7ad02</td>\n",
       "      <td>NaN</td>\n",
       "      <td>2019-06-22</td>\n",
       "      <td>1</td>\n",
       "      <td>0</td>\n",
       "      <td>2019-06-22</td>\n",
       "      <td>experiment</td>\n",
       "      <td>0</td>\n",
       "    </tr>\n",
       "    <tr>\n",
       "      <th>25</th>\n",
       "      <td>25</td>\n",
       "      <td>0136e545-347d-4a3b-b964-0a4561d32567</td>\n",
       "      <td>NaN</td>\n",
       "      <td>2019-06-22</td>\n",
       "      <td>0</td>\n",
       "      <td>0</td>\n",
       "      <td>2019-06-22</td>\n",
       "      <td>experiment</td>\n",
       "      <td>0</td>\n",
       "    </tr>\n",
       "    <tr>\n",
       "      <th>27</th>\n",
       "      <td>27</td>\n",
       "      <td>0144b69a-f364-4746-8600-f6d7334d8f3f</td>\n",
       "      <td>NaN</td>\n",
       "      <td>2019-06-27</td>\n",
       "      <td>1</td>\n",
       "      <td>0</td>\n",
       "      <td>2019-06-27</td>\n",
       "      <td>experiment</td>\n",
       "      <td>0</td>\n",
       "    </tr>\n",
       "    <tr>\n",
       "      <th>43</th>\n",
       "      <td>43</td>\n",
       "      <td>01e3886c-6f22-471f-b5e5-aa85d96f048c</td>\n",
       "      <td>3e636653-cf94-40b7-b3c9-7fb118d4d2a2</td>\n",
       "      <td>2019-06-30</td>\n",
       "      <td>1</td>\n",
       "      <td>1</td>\n",
       "      <td>NaT</td>\n",
       "      <td>control</td>\n",
       "      <td>1</td>\n",
       "    </tr>\n",
       "    <tr>\n",
       "      <th>44</th>\n",
       "      <td>44</td>\n",
       "      <td>020412e9-c946-4252-94cf-85a4aaa75e2e</td>\n",
       "      <td>NaN</td>\n",
       "      <td>2019-06-29</td>\n",
       "      <td>0</td>\n",
       "      <td>0</td>\n",
       "      <td>2019-06-29</td>\n",
       "      <td>experiment</td>\n",
       "      <td>0</td>\n",
       "    </tr>\n",
       "  </tbody>\n",
       "</table>\n",
       "</div>"
      ],
      "text/plain": [
       "    index                            prequal_id  \\\n",
       "0       0  00081cb5-27bb-428a-bc53-076bacc7ad02   \n",
       "25     25  0136e545-347d-4a3b-b964-0a4561d32567   \n",
       "27     27  0144b69a-f364-4746-8600-f6d7334d8f3f   \n",
       "43     43  01e3886c-6f22-471f-b5e5-aa85d96f048c   \n",
       "44     44  020412e9-c946-4252-94cf-85a4aaa75e2e   \n",
       "\n",
       "                             checkout_id prequal_date  completed_prequal  \\\n",
       "0                                    NaN   2019-06-22                  1   \n",
       "25                                   NaN   2019-06-22                  0   \n",
       "27                                   NaN   2019-06-27                  1   \n",
       "43  3e636653-cf94-40b7-b3c9-7fb118d4d2a2   2019-06-30                  1   \n",
       "44                                   NaN   2019-06-29                  0   \n",
       "\n",
       "    approved assignment_date       group  checkout  \n",
       "0          0      2019-06-22  experiment         0  \n",
       "25         0      2019-06-22  experiment         0  \n",
       "27         0      2019-06-27  experiment         0  \n",
       "43         1             NaT     control         1  \n",
       "44         0      2019-06-29  experiment         0  "
      ]
     },
     "execution_count": 35,
     "metadata": {},
     "output_type": "execute_result"
    }
   ],
   "source": [
    "prequals_new_after.head()"
   ]
  },
  {
   "cell_type": "code",
   "execution_count": 55,
   "metadata": {},
   "outputs": [
    {
     "data": {
      "text/plain": [
       "control       0.531432\n",
       "experiment    0.468568\n",
       "Name: group, dtype: float64"
      ]
     },
     "execution_count": 55,
     "metadata": {},
     "output_type": "execute_result"
    }
   ],
   "source": [
    "prequals_new_after.group.value_counts()/len(prequals_new_after)"
   ]
  },
  {
   "cell_type": "code",
   "execution_count": 42,
   "metadata": {},
   "outputs": [
    {
     "data": {
      "text/plain": [
       "control       9764\n",
       "experiment    8609\n",
       "Name: group, dtype: int64"
      ]
     },
     "execution_count": 42,
     "metadata": {},
     "output_type": "execute_result"
    }
   ],
   "source": [
    "prequals_new_after.group.value_counts()"
   ]
  },
  {
   "cell_type": "code",
   "execution_count": 62,
   "metadata": {},
   "outputs": [],
   "source": [
    "# Group assignment variables\n",
    "control_pct = (prequals_new_after.group.value_counts()/len(prequals_new_after))[0]\n",
    "control_pct = round(control_pct*100,1)\n",
    "\n",
    "experiment_pct = (prequals_new_after.group.value_counts()/len(prequals_new_after))[1]\n",
    "experiment_pct = round(experiment_pct*100,1)\n",
    "\n",
    "control_ct = prequals_new_after.group.value_counts()[0]\n",
    "experiment_ct = prequals_new_after.group.value_counts()[1]"
   ]
  },
  {
   "cell_type": "code",
   "execution_count": 64,
   "metadata": {},
   "outputs": [
    {
     "name": "stdout",
     "output_type": "stream",
     "text": [
      "It looks like the intent of the testing period was for 50% of the loads to ping Intellicron for SSN. \n",
      "            But the 50/50 split of control and experiment groups wasn't successful. The percent of loads for\n",
      "            control and experiment was 53.1% and 46.9%, respectively\n"
     ]
    }
   ],
   "source": [
    "print(f\"\"\"It looks like the intent of the testing period was for 50% of the loads to ping Intellicron for SSN. \n",
    "            But the 50/50 split of control and experiment groups wasn't successful. The percent of loads for\n",
    "            control and experiment was {control_pct}% and {experiment_pct}%, respectively\"\"\")"
   ]
  },
  {
   "cell_type": "markdown",
   "metadata": {},
   "source": [
    "## 6. Should we implement Intellicron? What other data, if any, would you need to make this determination?"
   ]
  },
  {
   "cell_type": "code",
   "execution_count": 66,
   "metadata": {},
   "outputs": [
    {
     "data": {
      "text/html": [
       "<div>\n",
       "<style scoped>\n",
       "    .dataframe tbody tr th:only-of-type {\n",
       "        vertical-align: middle;\n",
       "    }\n",
       "\n",
       "    .dataframe tbody tr th {\n",
       "        vertical-align: top;\n",
       "    }\n",
       "\n",
       "    .dataframe thead th {\n",
       "        text-align: right;\n",
       "    }\n",
       "</style>\n",
       "<table border=\"1\" class=\"dataframe\">\n",
       "  <thead>\n",
       "    <tr style=\"text-align: right;\">\n",
       "      <th></th>\n",
       "      <th>index</th>\n",
       "      <th>prequal_id</th>\n",
       "      <th>checkout_id</th>\n",
       "      <th>prequal_date</th>\n",
       "      <th>completed_prequal</th>\n",
       "      <th>approved</th>\n",
       "      <th>assignment_date</th>\n",
       "      <th>group</th>\n",
       "      <th>checkout</th>\n",
       "    </tr>\n",
       "  </thead>\n",
       "  <tbody>\n",
       "    <tr>\n",
       "      <th>0</th>\n",
       "      <td>0</td>\n",
       "      <td>00081cb5-27bb-428a-bc53-076bacc7ad02</td>\n",
       "      <td>NaN</td>\n",
       "      <td>2019-06-22</td>\n",
       "      <td>1</td>\n",
       "      <td>0</td>\n",
       "      <td>2019-06-22</td>\n",
       "      <td>experiment</td>\n",
       "      <td>0</td>\n",
       "    </tr>\n",
       "    <tr>\n",
       "      <th>25</th>\n",
       "      <td>25</td>\n",
       "      <td>0136e545-347d-4a3b-b964-0a4561d32567</td>\n",
       "      <td>NaN</td>\n",
       "      <td>2019-06-22</td>\n",
       "      <td>0</td>\n",
       "      <td>0</td>\n",
       "      <td>2019-06-22</td>\n",
       "      <td>experiment</td>\n",
       "      <td>0</td>\n",
       "    </tr>\n",
       "    <tr>\n",
       "      <th>27</th>\n",
       "      <td>27</td>\n",
       "      <td>0144b69a-f364-4746-8600-f6d7334d8f3f</td>\n",
       "      <td>NaN</td>\n",
       "      <td>2019-06-27</td>\n",
       "      <td>1</td>\n",
       "      <td>0</td>\n",
       "      <td>2019-06-27</td>\n",
       "      <td>experiment</td>\n",
       "      <td>0</td>\n",
       "    </tr>\n",
       "    <tr>\n",
       "      <th>43</th>\n",
       "      <td>43</td>\n",
       "      <td>01e3886c-6f22-471f-b5e5-aa85d96f048c</td>\n",
       "      <td>3e636653-cf94-40b7-b3c9-7fb118d4d2a2</td>\n",
       "      <td>2019-06-30</td>\n",
       "      <td>1</td>\n",
       "      <td>1</td>\n",
       "      <td>NaT</td>\n",
       "      <td>control</td>\n",
       "      <td>1</td>\n",
       "    </tr>\n",
       "    <tr>\n",
       "      <th>44</th>\n",
       "      <td>44</td>\n",
       "      <td>020412e9-c946-4252-94cf-85a4aaa75e2e</td>\n",
       "      <td>NaN</td>\n",
       "      <td>2019-06-29</td>\n",
       "      <td>0</td>\n",
       "      <td>0</td>\n",
       "      <td>2019-06-29</td>\n",
       "      <td>experiment</td>\n",
       "      <td>0</td>\n",
       "    </tr>\n",
       "  </tbody>\n",
       "</table>\n",
       "</div>"
      ],
      "text/plain": [
       "    index                            prequal_id  \\\n",
       "0       0  00081cb5-27bb-428a-bc53-076bacc7ad02   \n",
       "25     25  0136e545-347d-4a3b-b964-0a4561d32567   \n",
       "27     27  0144b69a-f364-4746-8600-f6d7334d8f3f   \n",
       "43     43  01e3886c-6f22-471f-b5e5-aa85d96f048c   \n",
       "44     44  020412e9-c946-4252-94cf-85a4aaa75e2e   \n",
       "\n",
       "                             checkout_id prequal_date  completed_prequal  \\\n",
       "0                                    NaN   2019-06-22                  1   \n",
       "25                                   NaN   2019-06-22                  0   \n",
       "27                                   NaN   2019-06-27                  1   \n",
       "43  3e636653-cf94-40b7-b3c9-7fb118d4d2a2   2019-06-30                  1   \n",
       "44                                   NaN   2019-06-29                  0   \n",
       "\n",
       "    approved assignment_date       group  checkout  \n",
       "0          0      2019-06-22  experiment         0  \n",
       "25         0      2019-06-22  experiment         0  \n",
       "27         0      2019-06-27  experiment         0  \n",
       "43         1             NaT     control         1  \n",
       "44         0      2019-06-29  experiment         0  "
      ]
     },
     "execution_count": 66,
     "metadata": {},
     "output_type": "execute_result"
    }
   ],
   "source": [
    "prequals_new_after.head()"
   ]
  },
  {
   "cell_type": "code",
   "execution_count": 69,
   "metadata": {},
   "outputs": [],
   "source": [
    "duration = prequals_new_after.prequal_date.max()-prequals_new_after.prequal_date.min()"
   ]
  },
  {
   "cell_type": "code",
   "execution_count": 72,
   "metadata": {},
   "outputs": [],
   "source": [
    "# Calculate approved rate\n",
    "control_appr = sum(prequals_new_after_control.approved)/sum(prequals_new_after_control.completed_prequal)\n",
    "control_appr = round(control_appr*100,1)\n",
    "\n",
    "experiment_appr = sum(prequals_new_after_experiment.approved)/sum(prequals_new_after_experiment.completed_prequal)\n",
    "experiment_appr = round(experiment_appr*100,1)"
   ]
  },
  {
   "cell_type": "code",
   "execution_count": 77,
   "metadata": {},
   "outputs": [
    {
     "name": "stdout",
     "output_type": "stream",
     "text": [
      "Not yet. The testing period seems too short, only lasting 14 days 00:00:00.\n",
      "\n",
      "But, more importantly, there also seems to be a difference in ultimate \n",
      "approval rates between Intellicron and the classic 6-field form.\n",
      "\n",
      "In this experiment, the approval rates for Intellicron was 64.5%,\n",
      "and for the classic 6-field form, the rate was 65.8%. Before\n",
      "implementing Intellicron it would be good to know:\n",
      "\n",
      "    1. Is this rate difference statistically signficant?\n",
      "    \n",
      "    2. If the rate difference is significant, what are is the reason\n",
      "    3. \n",
      "    . And, knowing that there is a $2 charge per application,\n",
      "it should be relatively easy to calculate a rough impact to \n",
      "        \n"
     ]
    }
   ],
   "source": [
    "print(f\"\"\"Not yet. The testing period seems too short, only lasting {duration}.\n",
    "\n",
    "But, more importantly, there also seems to be a difference in ultimate \n",
    "approval rates between Intellicron and the classic 6-field form.\n",
    "\n",
    "In this experiment, the approval rates for Intellicron was {experiment_appr}%,\n",
    "and for the classic 6-field form, the rate was {control_appr}%. Before\n",
    "implementing Intellicron it would be good to know:\n",
    "\n",
    "    1. Is this rate difference statistically signficant?\n",
    "    \n",
    "    2. If the rate difference is significant, what are the causes of denials?\n",
    "    \n",
    "    3. What is the total cost of implementing Intellicron, and what are other \n",
    "        financial impacts of implementation? For example, a $2 charge per \n",
    "        Intellicron applicant reduces profit margin for Bread,\n",
    "        but this may result in improved accuracy of credit-worthiness \n",
    "        determination for Bread merchants, improving Bread's ability to\n",
    "        attract more merchants.\n",
    "        \"\"\")"
   ]
  },
  {
   "cell_type": "code",
   "execution_count": null,
   "metadata": {},
   "outputs": [],
   "source": []
  }
 ],
 "metadata": {
  "kernelspec": {
   "display_name": "Python 3",
   "language": "python",
   "name": "python3"
  },
  "language_info": {
   "codemirror_mode": {
    "name": "ipython",
    "version": 3
   },
   "file_extension": ".py",
   "mimetype": "text/x-python",
   "name": "python",
   "nbconvert_exporter": "python",
   "pygments_lexer": "ipython3",
   "version": "3.8.5"
  }
 },
 "nbformat": 4,
 "nbformat_minor": 4
}
