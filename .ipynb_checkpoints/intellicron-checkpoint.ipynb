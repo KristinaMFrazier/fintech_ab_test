{
 "cells": [
  {
   "cell_type": "markdown",
   "metadata": {},
   "source": [
    "# Bread Hypothetical A/B Test Analysis\n",
    "\n",
    "### Table of Contents\n",
    "1. Import and explore data\n",
    "2. Data cleaning and feature engineering\n",
    "\n",
    "## 1. Import and explore data"
   ]
  },
  {
   "cell_type": "markdown",
   "metadata": {},
   "source": [
    "1. Combine intellicron data with all prequals\n",
    "    - identify intellicron and non-intellicron records\n",
    "2. Complete descriptive statistics to analyze the data\n",
    "    - Confirm record count to ensure succesful merge of data\n",
    "    - Look at spread of prequal_dates\n",
    "3. Feature engineering\n",
    "    - checkout: yes or no\n",
    "3. What was the impact from implementing Intellicron?\n",
    "    - Compare the raw approval rates between the two groups\n",
    "    - Compare the checkout rates between the two groups\n",
    "4. Perform a hypothesis test to measure the A/B test results. What was the result of the hypothesis test? What is your confidence interval?\n",
    "    - Follow and replicate the Udacity A/B test project to respond to this\n",
    "5. Was test and control group assignment done correctly? How can you tell? Is there anything you would do dierently next time?\n",
    "6. Should we implement Intellicron? What other data, if any, would you need to make this determination?\n",
    "7. Convert entire code to interactive\n",
    "    - design as main\n",
    "    - make interactive to show responses for all 4 questions"
   ]
  },
  {
   "cell_type": "code",
   "execution_count": 7,
   "metadata": {},
   "outputs": [
    {
     "name": "stdout",
     "output_type": "stream",
     "text": [
      "There are 190976 records in prequals\n",
      "There are 8609 records in intellicron_prequals\n"
     ]
    }
   ],
   "source": [
    "import numpy as np\n",
    "import pandas as pd\n",
    "import matplotlib.pyplot as plt\n",
    "%matplotlib inline\n",
    "\n",
    "prequals = pd.read_csv('prequals.csv')\n",
    "intellicron_prequals = pd.read_csv('intellicron_prequals.csv')\n",
    "\n",
    "print(f\"There are {len(prequals)} records in prequals\")\n",
    "print(f\"There are {len(intellicron_prequals)} records in intellicron_prequals\")"
   ]
  },
  {
   "cell_type": "markdown",
   "metadata": {},
   "source": [
    "### Preview table data"
   ]
  },
  {
   "cell_type": "code",
   "execution_count": 8,
   "metadata": {},
   "outputs": [
    {
     "data": {
      "text/html": [
       "<div>\n",
       "<style scoped>\n",
       "    .dataframe tbody tr th:only-of-type {\n",
       "        vertical-align: middle;\n",
       "    }\n",
       "\n",
       "    .dataframe tbody tr th {\n",
       "        vertical-align: top;\n",
       "    }\n",
       "\n",
       "    .dataframe thead th {\n",
       "        text-align: right;\n",
       "    }\n",
       "</style>\n",
       "<table border=\"1\" class=\"dataframe\">\n",
       "  <thead>\n",
       "    <tr style=\"text-align: right;\">\n",
       "      <th></th>\n",
       "      <th>Unnamed: 0</th>\n",
       "      <th>prequal_id</th>\n",
       "      <th>checkout_id</th>\n",
       "      <th>prequal_date</th>\n",
       "      <th>completed_prequal</th>\n",
       "      <th>approved</th>\n",
       "    </tr>\n",
       "  </thead>\n",
       "  <tbody>\n",
       "    <tr>\n",
       "      <th>0</th>\n",
       "      <td>1</td>\n",
       "      <td>00081cb5-27bb-428a-bc53-076bacc7ad02</td>\n",
       "      <td>NaN</td>\n",
       "      <td>2019-06-22</td>\n",
       "      <td>1</td>\n",
       "      <td>0</td>\n",
       "    </tr>\n",
       "    <tr>\n",
       "      <th>1</th>\n",
       "      <td>2</td>\n",
       "      <td>00120f05-bf9d-40db-99d1-05a8cbd8aa0e</td>\n",
       "      <td>NaN</td>\n",
       "      <td>2019-04-16</td>\n",
       "      <td>0</td>\n",
       "      <td>0</td>\n",
       "    </tr>\n",
       "    <tr>\n",
       "      <th>2</th>\n",
       "      <td>3</td>\n",
       "      <td>00139f6d-0af4-49c5-b26f-f9c999a06bcb</td>\n",
       "      <td>6e01514b-6b6b-4510-8f6c-d994b871273c</td>\n",
       "      <td>2019-05-09</td>\n",
       "      <td>1</td>\n",
       "      <td>1</td>\n",
       "    </tr>\n",
       "    <tr>\n",
       "      <th>3</th>\n",
       "      <td>4</td>\n",
       "      <td>0019854e-e4c2-42df-be79-59cf1a13ac89</td>\n",
       "      <td>NaN</td>\n",
       "      <td>2019-01-17</td>\n",
       "      <td>0</td>\n",
       "      <td>0</td>\n",
       "    </tr>\n",
       "    <tr>\n",
       "      <th>4</th>\n",
       "      <td>5</td>\n",
       "      <td>0019cb64-a44c-4320-b149-9c0167c714e9</td>\n",
       "      <td>NaN</td>\n",
       "      <td>2019-04-16</td>\n",
       "      <td>1</td>\n",
       "      <td>1</td>\n",
       "    </tr>\n",
       "  </tbody>\n",
       "</table>\n",
       "</div>"
      ],
      "text/plain": [
       "   Unnamed: 0                            prequal_id  \\\n",
       "0           1  00081cb5-27bb-428a-bc53-076bacc7ad02   \n",
       "1           2  00120f05-bf9d-40db-99d1-05a8cbd8aa0e   \n",
       "2           3  00139f6d-0af4-49c5-b26f-f9c999a06bcb   \n",
       "3           4  0019854e-e4c2-42df-be79-59cf1a13ac89   \n",
       "4           5  0019cb64-a44c-4320-b149-9c0167c714e9   \n",
       "\n",
       "                            checkout_id prequal_date  completed_prequal  \\\n",
       "0                                   NaN   2019-06-22                  1   \n",
       "1                                   NaN   2019-04-16                  0   \n",
       "2  6e01514b-6b6b-4510-8f6c-d994b871273c   2019-05-09                  1   \n",
       "3                                   NaN   2019-01-17                  0   \n",
       "4                                   NaN   2019-04-16                  1   \n",
       "\n",
       "   approved  \n",
       "0         0  \n",
       "1         0  \n",
       "2         1  \n",
       "3         0  \n",
       "4         1  "
      ]
     },
     "execution_count": 8,
     "metadata": {},
     "output_type": "execute_result"
    }
   ],
   "source": [
    "prequals.head()"
   ]
  },
  {
   "cell_type": "code",
   "execution_count": 9,
   "metadata": {
    "scrolled": true
   },
   "outputs": [
    {
     "data": {
      "text/html": [
       "<div>\n",
       "<style scoped>\n",
       "    .dataframe tbody tr th:only-of-type {\n",
       "        vertical-align: middle;\n",
       "    }\n",
       "\n",
       "    .dataframe tbody tr th {\n",
       "        vertical-align: top;\n",
       "    }\n",
       "\n",
       "    .dataframe thead th {\n",
       "        text-align: right;\n",
       "    }\n",
       "</style>\n",
       "<table border=\"1\" class=\"dataframe\">\n",
       "  <thead>\n",
       "    <tr style=\"text-align: right;\">\n",
       "      <th></th>\n",
       "      <th>Unnamed: 0</th>\n",
       "      <th>prequal_id</th>\n",
       "      <th>assignment_date</th>\n",
       "    </tr>\n",
       "  </thead>\n",
       "  <tbody>\n",
       "    <tr>\n",
       "      <th>0</th>\n",
       "      <td>1</td>\n",
       "      <td>00081cb5-27bb-428a-bc53-076bacc7ad02</td>\n",
       "      <td>2019-06-22</td>\n",
       "    </tr>\n",
       "    <tr>\n",
       "      <th>1</th>\n",
       "      <td>2</td>\n",
       "      <td>0136e545-347d-4a3b-b964-0a4561d32567</td>\n",
       "      <td>2019-06-22</td>\n",
       "    </tr>\n",
       "    <tr>\n",
       "      <th>2</th>\n",
       "      <td>3</td>\n",
       "      <td>0144b69a-f364-4746-8600-f6d7334d8f3f</td>\n",
       "      <td>2019-06-27</td>\n",
       "    </tr>\n",
       "    <tr>\n",
       "      <th>3</th>\n",
       "      <td>4</td>\n",
       "      <td>020412e9-c946-4252-94cf-85a4aaa75e2e</td>\n",
       "      <td>2019-06-29</td>\n",
       "    </tr>\n",
       "    <tr>\n",
       "      <th>4</th>\n",
       "      <td>5</td>\n",
       "      <td>02f54404-995d-4eb0-b91b-40f40f68f506</td>\n",
       "      <td>2019-06-19</td>\n",
       "    </tr>\n",
       "  </tbody>\n",
       "</table>\n",
       "</div>"
      ],
      "text/plain": [
       "   Unnamed: 0                            prequal_id assignment_date\n",
       "0           1  00081cb5-27bb-428a-bc53-076bacc7ad02      2019-06-22\n",
       "1           2  0136e545-347d-4a3b-b964-0a4561d32567      2019-06-22\n",
       "2           3  0144b69a-f364-4746-8600-f6d7334d8f3f      2019-06-27\n",
       "3           4  020412e9-c946-4252-94cf-85a4aaa75e2e      2019-06-29\n",
       "4           5  02f54404-995d-4eb0-b91b-40f40f68f506      2019-06-19"
      ]
     },
     "execution_count": 9,
     "metadata": {},
     "output_type": "execute_result"
    }
   ],
   "source": [
    "intellicron_prequals.head()"
   ]
  },
  {
   "cell_type": "markdown",
   "metadata": {},
   "source": [
    "### Date range"
   ]
  },
  {
   "cell_type": "code",
   "execution_count": 10,
   "metadata": {},
   "outputs": [
    {
     "data": {
      "text/plain": [
       "('2019-06-16', '2019-06-30')"
      ]
     },
     "execution_count": 10,
     "metadata": {},
     "output_type": "execute_result"
    }
   ],
   "source": [
    "# Date range for intellicron dataset\n",
    "min(intellicron_prequals.assignment_date), max(intellicron_prequals.assignment_date)"
   ]
  },
  {
   "cell_type": "code",
   "execution_count": 11,
   "metadata": {},
   "outputs": [
    {
     "data": {
      "text/plain": [
       "('2019-01-01', '2019-06-30')"
      ]
     },
     "execution_count": 11,
     "metadata": {},
     "output_type": "execute_result"
    }
   ],
   "source": [
    "# Date range for prequals dataset\n",
    "min(prequals.prequal_date), max(prequals.prequal_date)"
   ]
  },
  {
   "cell_type": "markdown",
   "metadata": {},
   "source": [
    "### Data types"
   ]
  },
  {
   "cell_type": "code",
   "execution_count": 15,
   "metadata": {},
   "outputs": [
    {
     "name": "stdout",
     "output_type": "stream",
     "text": [
      "<class 'pandas.core.frame.DataFrame'>\n",
      "RangeIndex: 8609 entries, 0 to 8608\n",
      "Data columns (total 3 columns):\n",
      " #   Column           Non-Null Count  Dtype \n",
      "---  ------           --------------  ----- \n",
      " 0   Unnamed: 0       8609 non-null   int64 \n",
      " 1   prequal_id       8609 non-null   object\n",
      " 2   assignment_date  8609 non-null   object\n",
      "dtypes: int64(1), object(2)\n",
      "memory usage: 201.9+ KB\n"
     ]
    }
   ],
   "source": [
    "intellicron_prequals.info()"
   ]
  },
  {
   "cell_type": "code",
   "execution_count": 14,
   "metadata": {
    "scrolled": true
   },
   "outputs": [
    {
     "name": "stdout",
     "output_type": "stream",
     "text": [
      "<class 'pandas.core.frame.DataFrame'>\n",
      "RangeIndex: 190976 entries, 0 to 190975\n",
      "Data columns (total 6 columns):\n",
      " #   Column             Non-Null Count   Dtype \n",
      "---  ------             --------------   ----- \n",
      " 0   Unnamed: 0         190976 non-null  int64 \n",
      " 1   prequal_id         190976 non-null  object\n",
      " 2   checkout_id        49323 non-null   object\n",
      " 3   prequal_date       190976 non-null  object\n",
      " 4   completed_prequal  190976 non-null  int64 \n",
      " 5   approved           190976 non-null  int64 \n",
      "dtypes: int64(3), object(3)\n",
      "memory usage: 8.7+ MB\n"
     ]
    }
   ],
   "source": [
    "prequals.info()"
   ]
  },
  {
   "cell_type": "markdown",
   "metadata": {},
   "source": [
    "### Null data"
   ]
  },
  {
   "cell_type": "code",
   "execution_count": 17,
   "metadata": {},
   "outputs": [
    {
     "data": {
      "text/plain": [
       "Unnamed: 0                0\n",
       "prequal_id                0\n",
       "checkout_id          141653\n",
       "prequal_date              0\n",
       "completed_prequal         0\n",
       "approved                  0\n",
       "dtype: int64"
      ]
     },
     "execution_count": 17,
     "metadata": {},
     "output_type": "execute_result"
    }
   ],
   "source": [
    "np.sum(prequals.isnull())"
   ]
  },
  {
   "cell_type": "code",
   "execution_count": 18,
   "metadata": {},
   "outputs": [
    {
     "data": {
      "text/plain": [
       "Unnamed: 0         0\n",
       "prequal_id         0\n",
       "assignment_date    0\n",
       "dtype: int64"
      ]
     },
     "execution_count": 18,
     "metadata": {},
     "output_type": "execute_result"
    }
   ],
   "source": [
    "np.sum(intellicron_prequals.isnull())"
   ]
  },
  {
   "cell_type": "markdown",
   "metadata": {},
   "source": [
    "## 2. Data cleaning and feature engineering"
   ]
  },
  {
   "cell_type": "code",
   "execution_count": 16,
   "metadata": {},
   "outputs": [],
   "source": [
    "# Convert date columns to date time\n"
   ]
  },
  {
   "cell_type": "code",
   "execution_count": null,
   "metadata": {},
   "outputs": [],
   "source": [
    "# Assign a new column to identify intellicron prequals\n",
    "intellicron_prequals['intellicron'] = 'intellicron'\n",
    "\n",
    "# Add intellicron identifier to prequals\n",
    "prequals_new = pd.prequals"
   ]
  },
  {
   "cell_type": "code",
   "execution_count": null,
   "metadata": {},
   "outputs": [],
   "source": []
  }
 ],
 "metadata": {
  "kernelspec": {
   "display_name": "Python 3",
   "language": "python",
   "name": "python3"
  },
  "language_info": {
   "codemirror_mode": {
    "name": "ipython",
    "version": 3
   },
   "file_extension": ".py",
   "mimetype": "text/x-python",
   "name": "python",
   "nbconvert_exporter": "python",
   "pygments_lexer": "ipython3",
   "version": "3.8.5"
  }
 },
 "nbformat": 4,
 "nbformat_minor": 4
}
