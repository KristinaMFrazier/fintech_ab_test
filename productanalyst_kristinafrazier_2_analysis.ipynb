{
 "cells": [
  {
   "attachments": {},
   "cell_type": "markdown",
   "metadata": {},
   "source": [
    "# Product Analyst Case Study for Bread\n",
    "\n",
    "*by Kristina Frazier*\n",
    "\n",
    "Thank you for reading my response to this Intellicron case study!\n",
    "\n",
    "\n",
    "## Part 1: Merchant Integrations & Profitability\n",
    "\n",
    "**1. What UX elements have you seen on our merchant websites that you think would make for a successful financing program?**\n",
    "\n",
    "I see that Bread merchants use very similar page elements to engage potential customers in financing options. I looked at Digital Storm and AccuQuilt and noticed that both retailers use a popup feature to draw a potential customer's attention to specific financing terms.\n",
    "\n",
    "It looks like the level of detail about payment terms varies from merchant to merchant. For example, AccuQuilt product pages give a preview of the cost for the lowest potential term-payment below the total price. Clicking on this preview then produces a popup that gives additional details about all of the available financing options, including installment or split pay options.\n",
    "\n",
    "**2. How do you measure whether a merchant is successful? What metric(s) would you use?**\n",
    "\n",
    "I think measuring whether or not a merchant is successful with using Bread financing involves several measures that describe customer engagement with the financing options and measures of Bread's impact to the merchant's revenue. More specifically:\n",
    "\n",
    "*Measures of Customer Engagement*\n",
    "- Application completion rates\n",
    "- Financing approval rate\n",
    "\n",
    "*Measures of Revenue Impact*\n",
    "- Total sales revenue \n",
    "- Conversion rate\n",
    "- Cart abandonment rate\n",
    "- First-time purchase rate\n",
    "- Average order value \n",
    "- Item Return rate\n",
    "\n",
    "Measures of revenue impact would compare the change in the above-listed measures before and after implementation of a financing solution. On the other hand, measures of customer engagement describe how well potential customers interact with the point of sale financing features offered by a retailer.\n",
    "\n",
    "\n",
    "**3. If you were to design a split test to test these hypotheses, what would it look like?**\n",
    "\n",
    "First I would establish a clear null hypothesis and confidence level to either accept or reject with a statistical test. The null hypothesis would be something like the following:\n",
    "> \"Customer exposure to financing options results in either no statistically-significant difference in specific measures of revenue impact, or a statistically-significant adverse impact on any of these measures.\"\n",
    "\n",
    "In the example of measuring the impact to average order value, I would examine completed order data during a set period of time, specifically collecting data on order value and payment method. In this case, the split would be those who opted into financing their purchase and those who did not. \n",
    "\n",
    "I would not expect the number of observations in either group to be equal, so it would be important to run the test long enough to collect enough transactions for the experimental/financing group (this group is likely to have fewer observations.) And after collecting the data, and I would run a difference of means statistical test to compare average order value of each group.\n",
    "\n",
    "\n",
    "**4. If you were not able to field a split test but asked to test your hypotheses without one, what data would you need and what method would you use? Please be specific.**\n",
    "\n",
    "Without a split test, it's also possible to collect data about the performance of a financing solution through a survey or poll. A survey could be requested of customers after they complete a transaction and could simply ask the customer whether or not they used financing for their purchase, a multipe choice selection of the reason why they used financing, and their total order amount.\n",
    "\n",
    "\n",
    "**5. What are the trade-offs between running a split test and analyzing our merchant base without one?**\n",
    "\n",
    "The benefits of using a split test is that they provide a more scientific and less biased method of analyzing the performance of a new feature. An alternative method of surveying/polling customers introduces new biases (such as opt-in bias) which are harder to control for. \n",
    "\n",
    "Alternatively, split tests can be time and cost-intensive and may involve careful design of a reliable randomization mechanism. Also, the results of A/B tests may also produce false positives due to change aversion of novelty effects of new features being tested.\n",
    "\n",
    "\n",
    "**6. Beyond volume, can you think of reasons why some merchants are more profitable than others for Bread?**\n",
    "\n",
    "   - Product types: high-dollar amount products and services\n",
    "   - Merchants which tend to have high customer lifetime value (loyal brand following/”older” customer base)\n",
    "   - Products favored by a younger demographic (some studies show that younger customers are more likely to use buy now/pay later)\n"
   ]
  },
  {
   "cell_type": "markdown",
   "metadata": {},
   "source": [
    "## Part 2: Split Test Analysis"
   ]
  },
  {
   "cell_type": "code",
   "execution_count": 1,
   "metadata": {},
   "outputs": [
    {
     "data": {
      "text/html": [
       "<div>\n",
       "<style scoped>\n",
       "    .dataframe tbody tr th:only-of-type {\n",
       "        vertical-align: middle;\n",
       "    }\n",
       "\n",
       "    .dataframe tbody tr th {\n",
       "        vertical-align: top;\n",
       "    }\n",
       "\n",
       "    .dataframe thead th {\n",
       "        text-align: right;\n",
       "    }\n",
       "</style>\n",
       "<table border=\"1\" class=\"dataframe\">\n",
       "  <thead>\n",
       "    <tr style=\"text-align: right;\">\n",
       "      <th></th>\n",
       "      <th>prequal_id</th>\n",
       "      <th>checkout_id</th>\n",
       "      <th>prequal_date</th>\n",
       "      <th>completed_prequal</th>\n",
       "      <th>approved</th>\n",
       "      <th>assignment_date</th>\n",
       "      <th>group</th>\n",
       "    </tr>\n",
       "  </thead>\n",
       "  <tbody>\n",
       "    <tr>\n",
       "      <th>0</th>\n",
       "      <td>00081cb5-27bb-428a-bc53-076bacc7ad02</td>\n",
       "      <td>NaN</td>\n",
       "      <td>2019-06-22</td>\n",
       "      <td>1</td>\n",
       "      <td>0</td>\n",
       "      <td>2019-06-22</td>\n",
       "      <td>experiment</td>\n",
       "    </tr>\n",
       "    <tr>\n",
       "      <th>1</th>\n",
       "      <td>0136e545-347d-4a3b-b964-0a4561d32567</td>\n",
       "      <td>NaN</td>\n",
       "      <td>2019-06-22</td>\n",
       "      <td>0</td>\n",
       "      <td>0</td>\n",
       "      <td>2019-06-22</td>\n",
       "      <td>experiment</td>\n",
       "    </tr>\n",
       "    <tr>\n",
       "      <th>2</th>\n",
       "      <td>0144b69a-f364-4746-8600-f6d7334d8f3f</td>\n",
       "      <td>NaN</td>\n",
       "      <td>2019-06-27</td>\n",
       "      <td>1</td>\n",
       "      <td>0</td>\n",
       "      <td>2019-06-27</td>\n",
       "      <td>experiment</td>\n",
       "    </tr>\n",
       "    <tr>\n",
       "      <th>3</th>\n",
       "      <td>01e3886c-6f22-471f-b5e5-aa85d96f048c</td>\n",
       "      <td>3e636653-cf94-40b7-b3c9-7fb118d4d2a2</td>\n",
       "      <td>2019-06-30</td>\n",
       "      <td>1</td>\n",
       "      <td>1</td>\n",
       "      <td>NaN</td>\n",
       "      <td>control</td>\n",
       "    </tr>\n",
       "    <tr>\n",
       "      <th>4</th>\n",
       "      <td>020412e9-c946-4252-94cf-85a4aaa75e2e</td>\n",
       "      <td>NaN</td>\n",
       "      <td>2019-06-29</td>\n",
       "      <td>0</td>\n",
       "      <td>0</td>\n",
       "      <td>2019-06-29</td>\n",
       "      <td>experiment</td>\n",
       "    </tr>\n",
       "  </tbody>\n",
       "</table>\n",
       "</div>"
      ],
      "text/plain": [
       "                             prequal_id                           checkout_id  \\\n",
       "0  00081cb5-27bb-428a-bc53-076bacc7ad02                                   NaN   \n",
       "1  0136e545-347d-4a3b-b964-0a4561d32567                                   NaN   \n",
       "2  0144b69a-f364-4746-8600-f6d7334d8f3f                                   NaN   \n",
       "3  01e3886c-6f22-471f-b5e5-aa85d96f048c  3e636653-cf94-40b7-b3c9-7fb118d4d2a2   \n",
       "4  020412e9-c946-4252-94cf-85a4aaa75e2e                                   NaN   \n",
       "\n",
       "  prequal_date  completed_prequal  approved assignment_date       group  \n",
       "0   2019-06-22                  1         0      2019-06-22  experiment  \n",
       "1   2019-06-22                  0         0      2019-06-22  experiment  \n",
       "2   2019-06-27                  1         0      2019-06-27  experiment  \n",
       "3   2019-06-30                  1         1             NaN     control  \n",
       "4   2019-06-29                  0         0      2019-06-29  experiment  "
      ]
     },
     "execution_count": 1,
     "metadata": {},
     "output_type": "execute_result"
    }
   ],
   "source": [
    "import numpy as np\n",
    "import pandas as pd\n",
    "import matplotlib.pyplot as plt\n",
    "%matplotlib inline\n",
    "np.random.seed(42)\n",
    "\n",
    "# \"productanalyst_kristinafrazier_1_dataprep.py\" produces intellicron_prequals_2.csv\n",
    "prequals = pd.read_csv('intellicron_prequals_2.csv')\n",
    "prequals['prequal_date'] = pd.to_datetime(prequals['prequal_date'])\n",
    "\n",
    "prequals.head()"
   ]
  },
  {
   "cell_type": "markdown",
   "metadata": {},
   "source": [
    "**1. What was the impact from implementing Intellicron?**"
   ]
  },
  {
   "cell_type": "code",
   "execution_count": 2,
   "metadata": {},
   "outputs": [
    {
     "name": "stdout",
     "output_type": "stream",
     "text": [
      "Without Intellicron, the application completion rate was 51.7%.\n",
      "With Intellicron, the application completion rate was 54.5%.\n"
     ]
    }
   ],
   "source": [
    "# Calculate completed_prequal rate\n",
    "control_rate = np.mean(prequals[prequals.group == 'control']['completed_prequal'])\n",
    "control_rate = round(control_rate*100,1)\n",
    "\n",
    "experiment_rate = np.mean(prequals[prequals.group == 'experiment']['completed_prequal'])\n",
    "experiment_rate = round(experiment_rate*100,1)\n",
    "\n",
    "print(f\"Without Intellicron, the application completion rate was {control_rate}%.\")\n",
    "print(f\"With Intellicron, the application completion rate was {experiment_rate}%.\")"
   ]
  },
  {
   "cell_type": "markdown",
   "metadata": {},
   "source": [
    "The above observed difference in application completion rates suggests that using Intellicron improves the application conversion rate."
   ]
  },
  {
   "cell_type": "markdown",
   "metadata": {},
   "source": [
    "**2. Perform a hypothesis test to measure the A/B test results. What was the result of the hypothesis test? What is your confidence interval?**\n",
    "\n",
    "Null Hypothesis: The conversion rate for the application step is the same or worse with Intellicron as it is when applicants enter their SSN manually.\n",
    "\n",
    "Alternative Hypothesis: The conversion rate for Intellicron applicants is greater than manual SSN entry."
   ]
  },
  {
   "cell_type": "code",
   "execution_count": 3,
   "metadata": {},
   "outputs": [
    {
     "name": "stdout",
     "output_type": "stream",
     "text": [
      "Confidence Interval: (0.009202126518571382, 0.047479611896140195)\n"
     ]
    },
    {
     "data": {
      "image/png": "[encoded data removed]",
      "text/plain": [
       "<Figure size 432x288 with 1 Axes>"
      ]
     },
     "metadata": {
      "needs_background": "light"
     },
     "output_type": "display_data"
    }
   ],
   "source": [
    "# Compute the observed difference between the application conversion rates of the control and experimental group.\n",
    "\n",
    "#Simplify variable names\n",
    "control = prequals[prequals.group == 'control']\n",
    "experiment = prequals[prequals.group == 'experiment']\n",
    "\n",
    "# Compute completion rate\n",
    "control_cr = control['completed_prequal'].mean()\n",
    "experiment_cr = experiment['completed_prequal'].mean()\n",
    "\n",
    "# Compute observed difference in completion rates\n",
    "obs_diff = experiment_cr - control_cr\n",
    "\n",
    "\n",
    "# Create sampling distribution for difference in completion rates with boostrapping\n",
    "diffs = []\n",
    "size = prequals.shape[0]\n",
    "for _ in range(10000):\n",
    "    b_samp = prequals.sample(size, replace=True)\n",
    "    control_df = b_samp.query('group == \"control\"')\n",
    "    experiment_df = b_samp.query('group == \"experiment\"')\n",
    "    control_ctr = control_df['completed_prequal'].mean()\n",
    "    experiment_ctr = experiment_df['completed_prequal'].mean()\n",
    "    diffs.append(experiment_ctr - control_ctr)\n",
    "\n",
    "# convert to numpy array\n",
    "diffs = np.array(diffs)\n",
    "\n",
    "# plot distribution\n",
    "plt.hist(diffs);\n",
    "\n",
    "print(f\"Confidence Interval: {np.percentile(diffs,0.5),np.percentile(diffs,99.5)}\")"
   ]
  },
  {
   "cell_type": "markdown",
   "metadata": {},
   "source": [
    "The plot above shows a normal distribution of sample bootstrapped differences in application conversion rates. The values above the plot show a 95 percent confidence interval. The interval does not contain 0 which means that Intellicron's imroved application conversion rate is statistically significant."
   ]
  },
  {
   "cell_type": "code",
   "execution_count": 4,
   "metadata": {},
   "outputs": [
    {
     "name": "stdout",
     "output_type": "stream",
     "text": [
      "P-Value: 0.0002.\n"
     ]
    },
    {
     "data": {
      "image/png": "[encoded data removed]",
      "text/plain": [
       "<Figure size 432x288 with 1 Axes>"
      ]
     },
     "metadata": {
      "needs_background": "light"
     },
     "output_type": "display_data"
    }
   ],
   "source": [
    "# create distribution under the null hypothesis\n",
    "null_vals = np.random.normal(loc = 0, scale = diffs.std(), size = diffs.size)\n",
    "\n",
    "# plot null distribution\n",
    "plt.hist(null_vals);\n",
    "\n",
    "# plot line for observed statistic\n",
    "plt.axvline(obs_diff, color = 'r');\n",
    "\n",
    "# compute p value\n",
    "print(f\"P-Value: {(null_vals > obs_diff).mean()}.\")"
   ]
  },
  {
   "cell_type": "markdown",
   "metadata": {},
   "source": [
    "Computing a p-value for the null hypothesis also confirms the statistical signficance of Intellicron's improved conversion rate. With a p-value very near 0 and certaintly less than the alpha .05 for a 95 percent confidence level, we can fail to reject the null hypothesis."
   ]
  },
  {
   "cell_type": "markdown",
   "metadata": {},
   "source": [
    "**3. Was test and control group assignment done correctly? How can you tell? Is there anything you would do differently next time?**"
   ]
  },
  {
   "cell_type": "code",
   "execution_count": 5,
   "metadata": {},
   "outputs": [
    {
     "name": "stdout",
     "output_type": "stream",
     "text": [
      "Percent of all loads in CONTROL group: 53.1%.\n",
      "Percent of all loads in EXPERIMENT group: 46.9%.\n"
     ]
    }
   ],
   "source": [
    "# Group assignment variables\n",
    "control_pct = (prequals.group.value_counts()/len(prequals))[0]\n",
    "control_pct = round(control_pct*100,1)\n",
    "\n",
    "experiment_pct = (prequals.group.value_counts()/len(prequals))[1]\n",
    "experiment_pct = round(experiment_pct*100,1)\n",
    "\n",
    "control_ct = prequals.group.value_counts()[0]\n",
    "experiment_ct = prequals.group.value_counts()[1]\n",
    "\n",
    "print(f\"Percent of all loads in CONTROL group: {control_pct}%.\")\n",
    "print(f\"Percent of all loads in EXPERIMENT group: {experiment_pct}%.\")"
   ]
  },
  {
   "cell_type": "markdown",
   "metadata": {},
   "source": [
    "It looks like the intent of the testing period was for 50% of the loads to ping Intellicron for SSN. But the 50/50 split of control and experiment groups wasn't successful. As is noted in the above printed values, there were slightly more loads in the control group."
   ]
  },
  {
   "cell_type": "markdown",
   "metadata": {},
   "source": [
    "**4. Should we implement Intellicron? What other data, if any, would you need to make this determination?**"
   ]
  },
  {
   "cell_type": "code",
   "execution_count": 6,
   "metadata": {},
   "outputs": [
    {
     "name": "stdout",
     "output_type": "stream",
     "text": [
      "Duration of testing period: 14 days 00:00:00.\n",
      "CONTROL approval rate: 65.8%.\n",
      "EXPERIMENT approval rate: 64.5%.\n"
     ]
    }
   ],
   "source": [
    "duration = prequals.prequal_date.max() - prequals.prequal_date.min()\n",
    "\n",
    "# Calculate approved rate\n",
    "control_appr = sum(control.approved)/sum(control.completed_prequal)\n",
    "control_appr = round(control_appr*100,1)\n",
    "\n",
    "experiment_appr = sum(experiment.approved)/sum(experiment.completed_prequal)\n",
    "experiment_appr = round(experiment_appr*100,1)\n",
    "\n",
    "# Print results\n",
    "print(f\"Duration of testing period: {duration}.\")\n",
    "print(f\"CONTROL approval rate: {control_appr}%.\")\n",
    "print(f\"EXPERIMENT approval rate: {experiment_appr}%.\") "
   ]
  },
  {
   "cell_type": "markdown",
   "metadata": {},
   "source": [
    "I wouldn't recommend implementing Intellicron just yet. The testing period seems too short, only lasting two weeks.\n",
    "\n",
    "But, more importantly, there also seems to be a difference in ultimate approval rates between Intellicron and the classic 6-field form. Before implementing Intellicron it would be good to know:\n",
    "1. Is this approval rate difference statistically signficant?\n",
    "2. If the rate difference is significant, what are the causes of denials?\n",
    "3. What is the total cost of implementing Intellicron, and what are other financial impacts of implementation? For example, a $2 charge per Intellicron applicant reduces profit margin for Bread, but this may result in improved accuracy of credit-worthiness determination for Bread merchants, potentially improving Bread's ability to attract more merchants."
   ]
  },
  {
   "cell_type": "code",
   "execution_count": null,
   "metadata": {},
   "outputs": [],
   "source": []
  }
 ],
 "metadata": {
  "kernelspec": {
   "display_name": "Python 3",
   "language": "python",
   "name": "python3"
  },
  "language_info": {
   "codemirror_mode": {
    "name": "ipython",
    "version": 3
   },
   "file_extension": ".py",
   "mimetype": "text/x-python",
   "name": "python",
   "nbconvert_exporter": "python",
   "pygments_lexer": "ipython3",
   "version": "3.8.5"
  }
 },
 "nbformat": 4,
 "nbformat_minor": 4
}
