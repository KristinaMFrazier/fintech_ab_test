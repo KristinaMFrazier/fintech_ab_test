{
 "cells": [
  {
   "cell_type": "code",
   "execution_count": 1,
   "metadata": {},
   "outputs": [],
   "source": [
    "import numpy as np\n",
    "import pandas as pd"
   ]
  },
  {
   "cell_type": "code",
   "execution_count": 2,
   "metadata": {},
   "outputs": [],
   "source": [
    "prequals = pd.read_csv('prequals.csv')\n",
    "intellicron_prequals = pd.read_csv('intellicron_prequals.csv')"
   ]
  },
  {
   "cell_type": "code",
   "execution_count": 3,
   "metadata": {},
   "outputs": [
    {
     "data": {
      "text/plain": [
       "190976"
      ]
     },
     "execution_count": 3,
     "metadata": {},
     "output_type": "execute_result"
    }
   ],
   "source": [
    "len(prequals)"
   ]
  },
  {
   "cell_type": "code",
   "execution_count": 4,
   "metadata": {},
   "outputs": [
    {
     "data": {
      "text/plain": [
       "8609"
      ]
     },
     "execution_count": 4,
     "metadata": {},
     "output_type": "execute_result"
    }
   ],
   "source": [
    "len(intellicron_prequals)"
   ]
  },
  {
   "cell_type": "code",
   "execution_count": 5,
   "metadata": {},
   "outputs": [
    {
     "data": {
      "text/html": [
       "<div>\n",
       "<style scoped>\n",
       "    .dataframe tbody tr th:only-of-type {\n",
       "        vertical-align: middle;\n",
       "    }\n",
       "\n",
       "    .dataframe tbody tr th {\n",
       "        vertical-align: top;\n",
       "    }\n",
       "\n",
       "    .dataframe thead th {\n",
       "        text-align: right;\n",
       "    }\n",
       "</style>\n",
       "<table border=\"1\" class=\"dataframe\">\n",
       "  <thead>\n",
       "    <tr style=\"text-align: right;\">\n",
       "      <th></th>\n",
       "      <th>Unnamed: 0</th>\n",
       "      <th>prequal_id</th>\n",
       "      <th>checkout_id</th>\n",
       "      <th>prequal_date</th>\n",
       "      <th>completed_prequal</th>\n",
       "      <th>approved</th>\n",
       "    </tr>\n",
       "  </thead>\n",
       "  <tbody>\n",
       "    <tr>\n",
       "      <th>0</th>\n",
       "      <td>1</td>\n",
       "      <td>00081cb5-27bb-428a-bc53-076bacc7ad02</td>\n",
       "      <td>NaN</td>\n",
       "      <td>2019-06-22</td>\n",
       "      <td>1</td>\n",
       "      <td>0</td>\n",
       "    </tr>\n",
       "    <tr>\n",
       "      <th>1</th>\n",
       "      <td>2</td>\n",
       "      <td>00120f05-bf9d-40db-99d1-05a8cbd8aa0e</td>\n",
       "      <td>NaN</td>\n",
       "      <td>2019-04-16</td>\n",
       "      <td>0</td>\n",
       "      <td>0</td>\n",
       "    </tr>\n",
       "    <tr>\n",
       "      <th>2</th>\n",
       "      <td>3</td>\n",
       "      <td>00139f6d-0af4-49c5-b26f-f9c999a06bcb</td>\n",
       "      <td>6e01514b-6b6b-4510-8f6c-d994b871273c</td>\n",
       "      <td>2019-05-09</td>\n",
       "      <td>1</td>\n",
       "      <td>1</td>\n",
       "    </tr>\n",
       "    <tr>\n",
       "      <th>3</th>\n",
       "      <td>4</td>\n",
       "      <td>0019854e-e4c2-42df-be79-59cf1a13ac89</td>\n",
       "      <td>NaN</td>\n",
       "      <td>2019-01-17</td>\n",
       "      <td>0</td>\n",
       "      <td>0</td>\n",
       "    </tr>\n",
       "    <tr>\n",
       "      <th>4</th>\n",
       "      <td>5</td>\n",
       "      <td>0019cb64-a44c-4320-b149-9c0167c714e9</td>\n",
       "      <td>NaN</td>\n",
       "      <td>2019-04-16</td>\n",
       "      <td>1</td>\n",
       "      <td>1</td>\n",
       "    </tr>\n",
       "  </tbody>\n",
       "</table>\n",
       "</div>"
      ],
      "text/plain": [
       "   Unnamed: 0                            prequal_id  \\\n",
       "0           1  00081cb5-27bb-428a-bc53-076bacc7ad02   \n",
       "1           2  00120f05-bf9d-40db-99d1-05a8cbd8aa0e   \n",
       "2           3  00139f6d-0af4-49c5-b26f-f9c999a06bcb   \n",
       "3           4  0019854e-e4c2-42df-be79-59cf1a13ac89   \n",
       "4           5  0019cb64-a44c-4320-b149-9c0167c714e9   \n",
       "\n",
       "                            checkout_id prequal_date  completed_prequal  \\\n",
       "0                                   NaN   2019-06-22                  1   \n",
       "1                                   NaN   2019-04-16                  0   \n",
       "2  6e01514b-6b6b-4510-8f6c-d994b871273c   2019-05-09                  1   \n",
       "3                                   NaN   2019-01-17                  0   \n",
       "4                                   NaN   2019-04-16                  1   \n",
       "\n",
       "   approved  \n",
       "0         0  \n",
       "1         0  \n",
       "2         1  \n",
       "3         0  \n",
       "4         1  "
      ]
     },
     "execution_count": 5,
     "metadata": {},
     "output_type": "execute_result"
    }
   ],
   "source": [
    "prequals.head()"
   ]
  },
  {
   "cell_type": "code",
   "execution_count": 6,
   "metadata": {},
   "outputs": [
    {
     "data": {
      "text/html": [
       "<div>\n",
       "<style scoped>\n",
       "    .dataframe tbody tr th:only-of-type {\n",
       "        vertical-align: middle;\n",
       "    }\n",
       "\n",
       "    .dataframe tbody tr th {\n",
       "        vertical-align: top;\n",
       "    }\n",
       "\n",
       "    .dataframe thead th {\n",
       "        text-align: right;\n",
       "    }\n",
       "</style>\n",
       "<table border=\"1\" class=\"dataframe\">\n",
       "  <thead>\n",
       "    <tr style=\"text-align: right;\">\n",
       "      <th></th>\n",
       "      <th>Unnamed: 0</th>\n",
       "      <th>prequal_id</th>\n",
       "      <th>assignment_date</th>\n",
       "    </tr>\n",
       "  </thead>\n",
       "  <tbody>\n",
       "    <tr>\n",
       "      <th>0</th>\n",
       "      <td>1</td>\n",
       "      <td>00081cb5-27bb-428a-bc53-076bacc7ad02</td>\n",
       "      <td>2019-06-22</td>\n",
       "    </tr>\n",
       "    <tr>\n",
       "      <th>1</th>\n",
       "      <td>2</td>\n",
       "      <td>0136e545-347d-4a3b-b964-0a4561d32567</td>\n",
       "      <td>2019-06-22</td>\n",
       "    </tr>\n",
       "    <tr>\n",
       "      <th>2</th>\n",
       "      <td>3</td>\n",
       "      <td>0144b69a-f364-4746-8600-f6d7334d8f3f</td>\n",
       "      <td>2019-06-27</td>\n",
       "    </tr>\n",
       "    <tr>\n",
       "      <th>3</th>\n",
       "      <td>4</td>\n",
       "      <td>020412e9-c946-4252-94cf-85a4aaa75e2e</td>\n",
       "      <td>2019-06-29</td>\n",
       "    </tr>\n",
       "    <tr>\n",
       "      <th>4</th>\n",
       "      <td>5</td>\n",
       "      <td>02f54404-995d-4eb0-b91b-40f40f68f506</td>\n",
       "      <td>2019-06-19</td>\n",
       "    </tr>\n",
       "  </tbody>\n",
       "</table>\n",
       "</div>"
      ],
      "text/plain": [
       "   Unnamed: 0                            prequal_id assignment_date\n",
       "0           1  00081cb5-27bb-428a-bc53-076bacc7ad02      2019-06-22\n",
       "1           2  0136e545-347d-4a3b-b964-0a4561d32567      2019-06-22\n",
       "2           3  0144b69a-f364-4746-8600-f6d7334d8f3f      2019-06-27\n",
       "3           4  020412e9-c946-4252-94cf-85a4aaa75e2e      2019-06-29\n",
       "4           5  02f54404-995d-4eb0-b91b-40f40f68f506      2019-06-19"
      ]
     },
     "execution_count": 6,
     "metadata": {},
     "output_type": "execute_result"
    }
   ],
   "source": [
    "intellicron_prequals.head()"
   ]
  },
  {
   "cell_type": "code",
   "execution_count": 7,
   "metadata": {},
   "outputs": [],
   "source": [
    "intellicron_prequals['intellicron'] = 'intellicron'"
   ]
  },
  {
   "cell_type": "markdown",
   "metadata": {},
   "source": [
    "1. Combine intellicron data with all prequals\n",
    "    - identify intellicron and non-intellicron records\n",
    "2. Complete descriptive statistics to analyze the data\n",
    "    - Confirm record count to ensure succesful merge of data\n",
    "    - Look at spread of prequal_dates\n",
    "3. Feature engineering\n",
    "    - checkout: yes or no\n",
    "3. What was the impact from implementing Intellicron?\n",
    "    - Compare the raw approval rates between the two groups\n",
    "    - Compare the checkout rates between the two groups\n",
    "4. Perform a hypothesis test to measure the A/B test results. What was the result of the hypothesis test? What is your confidence interval?\n",
    "    - Follow and replicate the Udacity A/B test project to respond to this\n",
    "5. Was test and control group assignment done correctly? How can you tell? Is there anything you would do di\u0000erently next time?\n",
    "    - \n",
    "6. Should we implement Intellicron? What other data, if any, would you need to make this determination?\n",
    "7. Convert entire code to interactive\n",
    "    - design as main\n",
    "    - make interactive to show responses for all 4 questions"
   ]
  },
  {
   "cell_type": "code",
   "execution_count": null,
   "metadata": {},
   "outputs": [],
   "source": []
  }
 ],
 "metadata": {
  "kernelspec": {
   "display_name": "Python 3",
   "language": "python",
   "name": "python3"
  },
  "language_info": {
   "codemirror_mode": {
    "name": "ipython",
    "version": 3
   },
   "file_extension": ".py",
   "mimetype": "text/x-python",
   "name": "python",
   "nbconvert_exporter": "python",
   "pygments_lexer": "ipython3",
   "version": "3.8.5"
  }
 },
 "nbformat": 4,
 "nbformat_minor": 4
}
